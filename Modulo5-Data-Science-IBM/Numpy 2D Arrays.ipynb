{
 "cells": [
  {
   "cell_type": "code",
   "execution_count": null,
   "id": "ddc47658",
   "metadata": {},
   "outputs": [],
   "source": [
    "#Denisse Maria Ramirez Colmenero - A01561497\n",
    "#Ejercicios realizados en Modulo 5 - Working with Numpy Arrays & Simple APIs\n",
    "#Subtema: Numpy 2D Arrays"
   ]
  },
  {
   "cell_type": "code",
   "execution_count": 2,
   "id": "6b0297d3",
   "metadata": {},
   "outputs": [
    {
     "data": {
      "text/plain": [
       "array([[11, 12, 13],\n",
       "       [21, 22, 23],\n",
       "       [31, 32, 33]])"
      ]
     },
     "execution_count": 2,
     "metadata": {},
     "output_type": "execute_result"
    }
   ],
   "source": [
    "import numpy as np\n",
    "a = [[11,12,13],[21,22,23],[31,32,33]]\n",
    "A = np.array(a)\n",
    "A "
   ]
  },
  {
   "cell_type": "code",
   "execution_count": 3,
   "id": "87491c3a",
   "metadata": {},
   "outputs": [
    {
     "data": {
      "text/plain": [
       "2"
      ]
     },
     "execution_count": 3,
     "metadata": {},
     "output_type": "execute_result"
    }
   ],
   "source": [
    "A.ndim #numero de axis o dimensiones "
   ]
  },
  {
   "cell_type": "code",
   "execution_count": 4,
   "id": "2dd77d76",
   "metadata": {},
   "outputs": [
    {
     "data": {
      "text/plain": [
       "(3, 3)"
      ]
     },
     "execution_count": 4,
     "metadata": {},
     "output_type": "execute_result"
    }
   ],
   "source": [
    "A.shape #rows x columns, devuelve un tuple "
   ]
  },
  {
   "cell_type": "code",
   "execution_count": 5,
   "id": "6cd1c9fb",
   "metadata": {},
   "outputs": [
    {
     "data": {
      "text/plain": [
       "9"
      ]
     },
     "execution_count": 5,
     "metadata": {},
     "output_type": "execute_result"
    }
   ],
   "source": [
    "A.size #multiplicando rows x columns "
   ]
  },
  {
   "cell_type": "code",
   "execution_count": 11,
   "id": "22cb7d93",
   "metadata": {},
   "outputs": [
    {
     "data": {
      "text/plain": [
       "23"
      ]
     },
     "execution_count": 11,
     "metadata": {},
     "output_type": "execute_result"
    }
   ],
   "source": [
    "#Para index A[rows][columns]\n",
    "A = [[11,12,13],[21,22,23],[31,32,33]]\n",
    "A[1][2]"
   ]
  },
  {
   "cell_type": "code",
   "execution_count": 16,
   "id": "a0ddd3b0",
   "metadata": {},
   "outputs": [
    {
     "data": {
      "text/plain": [
       "array([[3, 1],\n",
       "       [1, 3]])"
      ]
     },
     "execution_count": 16,
     "metadata": {},
     "output_type": "execute_result"
    }
   ],
   "source": [
    "x = np.array([[1,0],[0,1]])#multiplicar matrices \n",
    "y = np.array([[2,1],[1,2]])\n",
    "z=x+y\n",
    "z"
   ]
  },
  {
   "cell_type": "code",
   "execution_count": 17,
   "id": "956e9653",
   "metadata": {},
   "outputs": [
    {
     "data": {
      "text/plain": [
       "array([[4, 2],\n",
       "       [2, 4]])"
      ]
     },
     "execution_count": 17,
     "metadata": {},
     "output_type": "execute_result"
    }
   ],
   "source": [
    "#multiplicar matrices por constantes \n",
    "y = np.array([[2,1],[1,2]])\n",
    "z=2*y\n",
    "z"
   ]
  },
  {
   "cell_type": "code",
   "execution_count": 18,
   "id": "0fdc9e23",
   "metadata": {},
   "outputs": [
    {
     "data": {
      "text/plain": [
       "array([[2, 0],\n",
       "       [0, 2]])"
      ]
     },
     "execution_count": 18,
     "metadata": {},
     "output_type": "execute_result"
    }
   ],
   "source": [
    "#hadamart product \n",
    "x = np.array([[1,0],[0,1]])\n",
    "y = np.array([[2,1],[1,2]])\n",
    "z = y*x\n",
    "z"
   ]
  },
  {
   "cell_type": "code",
   "execution_count": 19,
   "id": "66b9aa65",
   "metadata": {},
   "outputs": [
    {
     "data": {
      "text/plain": [
       "array([[0, 2],\n",
       "       [0, 2]])"
      ]
     },
     "execution_count": 19,
     "metadata": {},
     "output_type": "execute_result"
    }
   ],
   "source": [
    "#multiplicacion de matrices, las rows de uno deben ser la misma cantidad que las columnas de la otra \n",
    "A = np.array([[0,1,1], [1,0,1]])\n",
    "B = np.array([[1,1],[1,1],[-1,1]])\n",
    "C = np.dot(A,B)\n",
    "C"
   ]
  },
  {
   "cell_type": "code",
   "execution_count": 20,
   "id": "cc1e8c5c",
   "metadata": {},
   "outputs": [
    {
     "data": {
      "text/plain": [
       "array([[1, 2],\n",
       "       [3, 4],\n",
       "       [5, 6],\n",
       "       [7, 8]])"
      ]
     },
     "execution_count": 20,
     "metadata": {},
     "output_type": "execute_result"
    }
   ],
   "source": [
    "A = np.array([[1,2],[3,4],[5,6],[7,8]])\n",
    "A"
   ]
  }
 ],
 "metadata": {
  "kernelspec": {
   "display_name": "Python 3 (ipykernel)",
   "language": "python",
   "name": "python3"
  },
  "language_info": {
   "codemirror_mode": {
    "name": "ipython",
    "version": 3
   },
   "file_extension": ".py",
   "mimetype": "text/x-python",
   "name": "python",
   "nbconvert_exporter": "python",
   "pygments_lexer": "ipython3",
   "version": "3.10.5"
  }
 },
 "nbformat": 4,
 "nbformat_minor": 5
}
