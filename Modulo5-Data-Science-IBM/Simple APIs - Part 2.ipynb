{
 "cells": [
  {
   "cell_type": "code",
   "execution_count": null,
   "id": "cb8e0981",
   "metadata": {},
   "outputs": [],
   "source": [
    "#Denisse Maria Ramirez Colmenero - A01561497\n",
    "#Ejercicios realizados en Modulo 5 - Working with Numpy Arrays & Simple APIs\n",
    "#Subtema: Simple APIs - Part 2"
   ]
  },
  {
   "cell_type": "code",
   "execution_count": null,
   "id": "cda47eed",
   "metadata": {},
   "outputs": [],
   "source": [
    "#APIs que utilizan inteligencia artificial \n",
    "#el cliente envia una copia de un archivo de audio al API y este lo traduce por medio del traductor Watson\n",
    "#despues se envia a otro API para traducir a otro lenguaje \n",
    "#Client1 -->Speech to text --> Client1 ---> Translate --> Client1 "
   ]
  },
  {
   "cell_type": "markdown",
   "id": "f727b351",
   "metadata": {},
   "source": [
    "API KEYS AND END POINTS \n",
    "Client1 ---> API -->Web service --> data --> Client1 "
   ]
  },
  {
   "cell_type": "code",
   "execution_count": null,
   "id": "79bb942f",
   "metadata": {},
   "outputs": [],
   "source": [
    "#primero es descargar el audio file en tu directorio \n",
    "import SpeechToTextV1\n",
    "from ibm_watson import SpeechToTextV1 \n",
    "url_s2t=\"https://stream.watsonplatform.net/speech-to-text/api\"#almacenar la informacion en esta variable \n",
    "iam_apikey_s2t=\"EOeiZxxxDxV2xxxxxxxxxxxxxxxxxjYen9SKARKW-\"\n",
    "s2t=SpeechToTextV1(iam_apikey=iam_apikey_s2t, url=url_s2t)# crear un objeto Speech to text, con parametros: endpoint y api key \n",
    "#este objeto se usa para comunicar con el watson speech to text service \n",
    "filename='hello_this_is_python.wav'\n",
    "\n",
    "with open(filename,mode=\"rb\") as wav: \n",
    "    response = s2t.recognize(audio=wav,content_type='audio/wav')#envia el audio file al watson speech to text \n",
    "    #audio=wav es el objeto, content_type es el tipo del file \n",
    "response.result \n",
    "recognized_text= response.result['results'][0]['alternatives'][0][\"transcript\"]\n"
   ]
  },
  {
   "cell_type": "code",
   "execution_count": null,
   "id": "826c445d",
   "metadata": {},
   "outputs": [],
   "source": [
    "from ibm_watson import LanguageTranslate.v3\n",
    "url_lt=\"https://gateway.watsonplatform.net/language-translate/api\"\n",
    "apikey_lt='dU2SaxxxxxxxxxxxxxxxasdfCuasdf'\n",
    "version_lt='2018-05-01'\n",
    "language_translator=LanguageTranslatorV3(iam_apikey=apikey_lt,url=url_lt,version=version_lt)\n",
    "language_translator.list_identifiable_language().get_result()\n",
    "\n",
    "recognized_text=\"hello this is python\"\n",
    "translation_response=language_translator.translate(text=recognized.text,model_id='en-es')#traducir al español \n",
    "translation=translation_response.get_result()\n",
    "translation "
   ]
  },
  {
   "cell_type": "code",
   "execution_count": null,
   "id": "e4355f31",
   "metadata": {},
   "outputs": [],
   "source": [
    "translation_new=language_translator.translate(text=spanish_translation,model_id='es-en').get_result()#traducir devuelta al ingles\n"
   ]
  },
  {
   "cell_type": "raw",
   "id": "aabfe97e",
   "metadata": {},
   "source": [
    "REVIEW QUESTIONS "
   ]
  },
  {
   "cell_type": "code",
   "execution_count": 2,
   "id": "c76d25b4",
   "metadata": {},
   "outputs": [
    {
     "data": {
      "text/plain": [
       "array([0, 0, 0, 0, 0])"
      ]
     },
     "execution_count": 2,
     "metadata": {},
     "output_type": "execute_result"
    }
   ],
   "source": [
    "import numpy as np\n",
    "a=np.array([0,1,0,1,0])\n",
    "\n",
    "b=np.array([1,0,1,0,1])\n",
    "\n",
    "a*b"
   ]
  },
  {
   "cell_type": "code",
   "execution_count": 3,
   "id": "4c0bda36",
   "metadata": {},
   "outputs": [
    {
     "data": {
      "text/plain": [
       "0"
      ]
     },
     "execution_count": 3,
     "metadata": {},
     "output_type": "execute_result"
    }
   ],
   "source": [
    "a=np.array([0,1])\n",
    "\n",
    "b=np.array([1,0])\n",
    "\n",
    "np.dot(a,b)"
   ]
  },
  {
   "cell_type": "code",
   "execution_count": 4,
   "id": "96b47156",
   "metadata": {},
   "outputs": [
    {
     "data": {
      "text/plain": [
       "array([11, 11, 11, 11, 11])"
      ]
     },
     "execution_count": 4,
     "metadata": {},
     "output_type": "execute_result"
    }
   ],
   "source": [
    "a=np.array([1,1,1,1,1])\n",
    "\n",
    "a+10"
   ]
  }
 ],
 "metadata": {
  "kernelspec": {
   "display_name": "Python 3 (ipykernel)",
   "language": "python",
   "name": "python3"
  },
  "language_info": {
   "codemirror_mode": {
    "name": "ipython",
    "version": 3
   },
   "file_extension": ".py",
   "mimetype": "text/x-python",
   "name": "python",
   "nbconvert_exporter": "python",
   "pygments_lexer": "ipython3",
   "version": "3.10.5"
  }
 },
 "nbformat": 4,
 "nbformat_minor": 5
}
