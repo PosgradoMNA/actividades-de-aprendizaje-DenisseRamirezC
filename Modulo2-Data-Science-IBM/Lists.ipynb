{
 "cells": [
  {
   "cell_type": "code",
   "execution_count": 1,
   "id": "7aa6add1",
   "metadata": {},
   "outputs": [
    {
     "data": {
      "text/plain": [
       "10.1"
      ]
     },
     "execution_count": 1,
     "metadata": {},
     "output_type": "execute_result"
    }
   ],
   "source": [
    "#La mayor diferencia entre tuples y listas, es que estas si son inmutables \n",
    "#se pueden meter tuples dentro de listas \n",
    "#van entre corchetes \n",
    "#se accesa al mismo elemento por sus index de la misma forma que con los tuples, igual con numeros negativos \n",
    "L = ['Michael Jackson',10.1,1982,[1,2],('a',1)]\n",
    "L[1] "
   ]
  },
  {
   "cell_type": "code",
   "execution_count": 2,
   "id": "da6595f7",
   "metadata": {},
   "outputs": [
    {
     "data": {
      "text/plain": [
       "'a'"
      ]
     },
     "execution_count": 2,
     "metadata": {},
     "output_type": "execute_result"
    }
   ],
   "source": [
    "L[4][0]"
   ]
  },
  {
   "cell_type": "code",
   "execution_count": 3,
   "id": "19be6bb2",
   "metadata": {},
   "outputs": [
    {
     "data": {
      "text/plain": [
       "'h'"
      ]
     },
     "execution_count": 3,
     "metadata": {},
     "output_type": "execute_result"
    }
   ],
   "source": [
    "L[0][3]"
   ]
  },
  {
   "cell_type": "code",
   "execution_count": 4,
   "id": "7637511e",
   "metadata": {},
   "outputs": [
    {
     "data": {
      "text/plain": [
       "1982"
      ]
     },
     "execution_count": 4,
     "metadata": {},
     "output_type": "execute_result"
    }
   ],
   "source": [
    "L[-3]"
   ]
  },
  {
   "cell_type": "code",
   "execution_count": 5,
   "id": "bc60484a",
   "metadata": {},
   "outputs": [
    {
     "data": {
      "text/plain": [
       "[1982, [1, 2], ('a', 1)]"
      ]
     },
     "execution_count": 5,
     "metadata": {},
     "output_type": "execute_result"
    }
   ],
   "source": [
    "L[2:5]"
   ]
  },
  {
   "cell_type": "code",
   "execution_count": 6,
   "id": "13e579c5",
   "metadata": {},
   "outputs": [
    {
     "name": "stdout",
     "output_type": "stream",
     "text": [
      "['Denisse', 'Maria', 'Ramirez Colmenero', 24]\n"
     ]
    }
   ],
   "source": [
    "L2 = ['Denisse','Maria']\n",
    "L3 = ['Ramirez Colmenero', 24]\n",
    "L4 = L2 + L3 \n",
    "print(L4)"
   ]
  },
  {
   "cell_type": "code",
   "execution_count": 7,
   "id": "f4d3682e",
   "metadata": {},
   "outputs": [
    {
     "data": {
      "text/plain": [
       "'Ramirez Colmenero'"
      ]
     },
     "execution_count": 7,
     "metadata": {},
     "output_type": "execute_result"
    }
   ],
   "source": [
    "L4[2]"
   ]
  },
  {
   "cell_type": "code",
   "execution_count": 8,
   "id": "c4f62b3e",
   "metadata": {},
   "outputs": [
    {
     "name": "stdout",
     "output_type": "stream",
     "text": [
      "['Denisse', 'Maria', 'Ramirez Colmenero', 24, 2019, 2020]\n"
     ]
    }
   ],
   "source": [
    "#Como si son inmutables, las podemos cambiar, se adhiere al final  \n",
    "L4.extend([2019,2020]) #aqui se agregan como dos elementos mas \n",
    "print(L4)"
   ]
  },
  {
   "cell_type": "code",
   "execution_count": 10,
   "id": "3e6358e5",
   "metadata": {},
   "outputs": [
    {
     "name": "stdout",
     "output_type": "stream",
     "text": [
      "['Ramirez Colmenero', 24, ['D', 'M']]\n"
     ]
    }
   ],
   "source": [
    "#con append, todos se adhieren como un mismo elemento, mismo index \n",
    "L3.append([\"D\",\"M\"])\n",
    "print(L3)"
   ]
  },
  {
   "cell_type": "code",
   "execution_count": 18,
   "id": "b79b9ec4",
   "metadata": {},
   "outputs": [
    {
     "data": {
      "text/plain": [
       "'S'"
      ]
     },
     "execution_count": 18,
     "metadata": {},
     "output_type": "execute_result"
    }
   ],
   "source": [
    "A = ['A','S','E','H'] \n",
    "A[1]"
   ]
  },
  {
   "cell_type": "code",
   "execution_count": 19,
   "id": "35847a6f",
   "metadata": {},
   "outputs": [
    {
     "data": {
      "text/plain": [
       "['M', 'A', 'S', 'E', 'H']"
      ]
     },
     "execution_count": 19,
     "metadata": {},
     "output_type": "execute_result"
    }
   ],
   "source": [
    "A=['M','A','S','E','H']\n",
    "A[0:5]"
   ]
  },
  {
   "cell_type": "code",
   "execution_count": 20,
   "id": "a08dc7fd",
   "metadata": {},
   "outputs": [
    {
     "name": "stdout",
     "output_type": "stream",
     "text": [
      "['A', 'S', 'E', 'H']\n"
     ]
    }
   ],
   "source": [
    "#Para eliminar un elemento \n",
    "del(A[0])\n",
    "print(A)"
   ]
  },
  {
   "cell_type": "code",
   "execution_count": 21,
   "id": "c37165bb",
   "metadata": {},
   "outputs": [
    {
     "data": {
      "text/plain": [
       "['Denisse', 'Maria']"
      ]
     },
     "execution_count": 21,
     "metadata": {},
     "output_type": "execute_result"
    }
   ],
   "source": [
    "#Para separar \n",
    "\"Denisse Maria\".split()"
   ]
  },
  {
   "cell_type": "code",
   "execution_count": 22,
   "id": "b17ede6b",
   "metadata": {},
   "outputs": [
    {
     "data": {
      "text/plain": [
       "['A', 'B', 'C', 'D']"
      ]
     },
     "execution_count": 22,
     "metadata": {},
     "output_type": "execute_result"
    }
   ],
   "source": [
    "#Separarlo cada que este un simbolo \n",
    "\"A,B,C,D\".split(\",\")"
   ]
  },
  {
   "cell_type": "code",
   "execution_count": 24,
   "id": "e6faa353",
   "metadata": {},
   "outputs": [
    {
     "data": {
      "text/plain": [
       "['Russo', 2017, 5]"
      ]
     },
     "execution_count": 24,
     "metadata": {},
     "output_type": "execute_result"
    }
   ],
   "source": [
    "#cuando dos variables hacen referencia a la misma lista se le llama aliasing \n",
    "#si uno cambia, el otro tambien \n",
    "A=[\"Vito\", 2017,5]\n",
    "B=A \n",
    "A[0] = \"Russo\" \n",
    "B[0:3]"
   ]
  },
  {
   "cell_type": "code",
   "execution_count": 25,
   "id": "97fac679",
   "metadata": {},
   "outputs": [
    {
     "data": {
      "text/plain": [
       "['Russo', 2017, 5]"
      ]
     },
     "execution_count": 25,
     "metadata": {},
     "output_type": "execute_result"
    }
   ],
   "source": [
    "#Podemos clonar las listas y asi si una cambia la otra no lo hara porque es solo una copia \n",
    "C = [\"Vito\", 2017, 5]\n",
    "D=C[:]\n",
    "C[0] = \"Russo\"\n",
    "C[0:3]"
   ]
  },
  {
   "cell_type": "code",
   "execution_count": 26,
   "id": "9cf5fee8",
   "metadata": {},
   "outputs": [
    {
     "data": {
      "text/plain": [
       "['Vito', 2017, 5]"
      ]
     },
     "execution_count": 26,
     "metadata": {},
     "output_type": "execute_result"
    }
   ],
   "source": [
    "D[0:3]"
   ]
  },
  {
   "cell_type": "code",
   "execution_count": 28,
   "id": "3453b573",
   "metadata": {},
   "outputs": [
    {
     "data": {
      "text/plain": [
       "5"
      ]
     },
     "execution_count": 28,
     "metadata": {},
     "output_type": "execute_result"
    }
   ],
   "source": [
    "D[2]"
   ]
  },
  {
   "cell_type": "code",
   "execution_count": 29,
   "id": "4affa675",
   "metadata": {},
   "outputs": [
    {
     "data": {
      "text/plain": [
       "['b', 'c']"
      ]
     },
     "execution_count": 29,
     "metadata": {},
     "output_type": "execute_result"
    }
   ],
   "source": [
    "B=[\"a\",\"b\",\"c\"]\n",
    "B[1:]"
   ]
  },
  {
   "cell_type": "code",
   "execution_count": null,
   "id": "402c18f1",
   "metadata": {},
   "outputs": [],
   "source": []
  }
 ],
 "metadata": {
  "kernelspec": {
   "display_name": "Python 3 (ipykernel)",
   "language": "python",
   "name": "python3"
  },
  "language_info": {
   "codemirror_mode": {
    "name": "ipython",
    "version": 3
   },
   "file_extension": ".py",
   "mimetype": "text/x-python",
   "name": "python",
   "nbconvert_exporter": "python",
   "pygments_lexer": "ipython3",
   "version": "3.10.5"
  }
 },
 "nbformat": 4,
 "nbformat_minor": 5
}
