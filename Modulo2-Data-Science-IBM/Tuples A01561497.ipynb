{
 "cells": [
  {
   "cell_type": "code",
   "execution_count": 1,
   "id": "0d8f68b2",
   "metadata": {},
   "outputs": [
    {
     "data": {
      "text/plain": [
       "tuple"
      ]
     },
     "execution_count": 1,
     "metadata": {},
     "output_type": "execute_result"
    }
   ],
   "source": [
    "#igualmente se puede obtener el tipo de un tuple\n",
    "tuple1 = ('disco',10,1.2) \n",
    "type(tuple1)"
   ]
  },
  {
   "cell_type": "code",
   "execution_count": 2,
   "id": "a39ff084",
   "metadata": {},
   "outputs": [
    {
     "data": {
      "text/plain": [
       "'disco'"
      ]
     },
     "execution_count": 2,
     "metadata": {},
     "output_type": "execute_result"
    }
   ],
   "source": [
    "#tambien obtener un elemento por su index \n",
    "tuple1[0]"
   ]
  },
  {
   "cell_type": "code",
   "execution_count": 3,
   "id": "bf5d59de",
   "metadata": {},
   "outputs": [
    {
     "data": {
      "text/plain": [
       "1.2"
      ]
     },
     "execution_count": 3,
     "metadata": {},
     "output_type": "execute_result"
    }
   ],
   "source": [
    "tuple1[-1]"
   ]
  },
  {
   "cell_type": "code",
   "execution_count": 5,
   "id": "1e423cd3",
   "metadata": {},
   "outputs": [
    {
     "name": "stdout",
     "output_type": "stream",
     "text": [
      "('disco', 10, 1.2, 'hard rock', 10)\n"
     ]
    }
   ],
   "source": [
    "#concatenar varios tuples \n",
    "tuple2 = tuple1 + (\"hard rock\", 10) \n",
    "print(tuple2)"
   ]
  },
  {
   "cell_type": "code",
   "execution_count": 6,
   "id": "d19eb297",
   "metadata": {},
   "outputs": [
    {
     "data": {
      "text/plain": [
       "('disco', 10, 1.2)"
      ]
     },
     "execution_count": 6,
     "metadata": {},
     "output_type": "execute_result"
    }
   ],
   "source": [
    "#obtener varios elementos por su index, slice. \n",
    "tuple2[0:3]"
   ]
  },
  {
   "cell_type": "code",
   "execution_count": 7,
   "id": "7e91f79f",
   "metadata": {},
   "outputs": [
    {
     "data": {
      "text/plain": [
       "('hard rock', 10)"
      ]
     },
     "execution_count": 7,
     "metadata": {},
     "output_type": "execute_result"
    }
   ],
   "source": [
    "tuple2[3:5]"
   ]
  },
  {
   "cell_type": "code",
   "execution_count": 8,
   "id": "06bba2aa",
   "metadata": {},
   "outputs": [
    {
     "data": {
      "text/plain": [
       "5"
      ]
     },
     "execution_count": 8,
     "metadata": {},
     "output_type": "execute_result"
    }
   ],
   "source": [
    "#tamanio de un tuple \n",
    "len(tuple2)"
   ]
  },
  {
   "cell_type": "code",
   "execution_count": 11,
   "id": "119776c1",
   "metadata": {},
   "outputs": [
    {
     "name": "stdout",
     "output_type": "stream",
     "text": [
      "[2, 5, 6, 6, 8, 9, 9, 10, 10]\n"
     ]
    }
   ],
   "source": [
    "#no podemos cambiar un elemento de un tuple \n",
    "#podemos usar la funcion sorted, para organizar un tuple pero tiene que almacenarse en una nuevo variable \n",
    "ratings = (10,9,6,5,10,8,9,6,2)\n",
    "ratingsSort=sorted(ratings)\n",
    "print(ratingsSort)\n"
   ]
  },
  {
   "cell_type": "code",
   "execution_count": 14,
   "id": "c8901f39",
   "metadata": {},
   "outputs": [
    {
     "data": {
      "text/plain": [
       "('POP', 'ROCK')"
      ]
     },
     "execution_count": 14,
     "metadata": {},
     "output_type": "execute_result"
    }
   ],
   "source": [
    "#un tuple puede contener otros tuples dentro de el (nesting), por ejemplo:\n",
    "NT = (1,2,(\"POP\", \"ROCK\"),(3,4),(\"DISCO\",(1,2)) )\n",
    "#POP y ROCK estan en el mismo indice porque son un mismo tuple dentro de otro\n",
    "NT[2]\n"
   ]
  },
  {
   "cell_type": "code",
   "execution_count": 15,
   "id": "0eb74925",
   "metadata": {},
   "outputs": [
    {
     "data": {
      "text/plain": [
       "'ROCK'"
      ]
     },
     "execution_count": 15,
     "metadata": {},
     "output_type": "execute_result"
    }
   ],
   "source": [
    "#pero dentro de ese tuple hay dos index \n",
    "NT[2][1] "
   ]
  },
  {
   "cell_type": "code",
   "execution_count": 16,
   "id": "ac534012",
   "metadata": {},
   "outputs": [
    {
     "data": {
      "text/plain": [
       "'DISCO'"
      ]
     },
     "execution_count": 16,
     "metadata": {},
     "output_type": "execute_result"
    }
   ],
   "source": [
    "NT[4][0]"
   ]
  },
  {
   "cell_type": "code",
   "execution_count": 17,
   "id": "4af8912f",
   "metadata": {},
   "outputs": [
    {
     "data": {
      "text/plain": [
       "'O'"
      ]
     },
     "execution_count": 17,
     "metadata": {},
     "output_type": "execute_result"
    }
   ],
   "source": [
    "NT[2][1][1]"
   ]
  },
  {
   "cell_type": "code",
   "execution_count": 19,
   "id": "d87338b3",
   "metadata": {},
   "outputs": [
    {
     "data": {
      "text/plain": [
       "'S'"
      ]
     },
     "execution_count": 19,
     "metadata": {},
     "output_type": "execute_result"
    }
   ],
   "source": [
    "NT[4][0][2]"
   ]
  },
  {
   "cell_type": "code",
   "execution_count": null,
   "id": "6cffb0ae",
   "metadata": {},
   "outputs": [],
   "source": []
  }
 ],
 "metadata": {
  "kernelspec": {
   "display_name": "Python 3 (ipykernel)",
   "language": "python",
   "name": "python3"
  },
  "language_info": {
   "codemirror_mode": {
    "name": "ipython",
    "version": 3
   },
   "file_extension": ".py",
   "mimetype": "text/x-python",
   "name": "python",
   "nbconvert_exporter": "python",
   "pygments_lexer": "ipython3",
   "version": "3.10.5"
  }
 },
 "nbformat": 4,
 "nbformat_minor": 5
}
