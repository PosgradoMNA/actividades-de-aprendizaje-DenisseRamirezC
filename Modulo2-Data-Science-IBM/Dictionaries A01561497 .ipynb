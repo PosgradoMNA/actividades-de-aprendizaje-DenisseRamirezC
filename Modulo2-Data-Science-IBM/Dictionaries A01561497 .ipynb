{
 "cells": [
  {
   "cell_type": "code",
   "execution_count": 1,
   "id": "5459415f",
   "metadata": {},
   "outputs": [],
   "source": [
    "#Los diccionarios son otro tipo de coleccion\n",
    "#los diccionarios tienen un valor (elemento) y una llave (key) que es un index con etiqueta \n",
    "#Diccionario={“llave”:”contenido”}\n",
    "#Los diccionarios tienen valores mutables, inmutables y duplicados\n",
    "D = {\"key1\":1, \"key2\":\"2\",\"key3\":[3,3,3], \"key4\":(4,4,4), ('key5'):5}"
   ]
  },
  {
   "cell_type": "code",
   "execution_count": 5,
   "id": "088be720",
   "metadata": {},
   "outputs": [
    {
     "data": {
      "text/plain": [
       "1980"
      ]
     },
     "execution_count": 5,
     "metadata": {},
     "output_type": "execute_result"
    }
   ],
   "source": [
    "#Para obtener el contenido de una llave \n",
    "DICT= {\"Thriller\": 1982, \"Back in Black\": 1980, \"The Dark side of the Moon\": 1973}\n",
    "DICT[\"Back in Black\"]"
   ]
  },
  {
   "cell_type": "code",
   "execution_count": 9,
   "id": "0ae87192",
   "metadata": {},
   "outputs": [
    {
     "name": "stdout",
     "output_type": "stream",
     "text": [
      "{'Thriller': 1982, 'Back in Black': 1980, 'The Dark side of the Moon': 1973, 'Graduation': '2007'}\n"
     ]
    }
   ],
   "source": [
    "#para agregar la llave y contenido \n",
    "DICT[\"Graduation\"]='2007'\n",
    "print(DICT)"
   ]
  },
  {
   "cell_type": "code",
   "execution_count": 10,
   "id": "2b2fd561",
   "metadata": {},
   "outputs": [
    {
     "name": "stdout",
     "output_type": "stream",
     "text": [
      "{'Back in Black': 1980, 'The Dark side of the Moon': 1973, 'Graduation': '2007'}\n"
     ]
    }
   ],
   "source": [
    "#para eliminar \n",
    "del(DICT[\"Thriller\"])\n",
    "print(DICT)"
   ]
  },
  {
   "cell_type": "code",
   "execution_count": 11,
   "id": "239bb40f",
   "metadata": {},
   "outputs": [
    {
     "data": {
      "text/plain": [
       "False"
      ]
     },
     "execution_count": 11,
     "metadata": {},
     "output_type": "execute_result"
    }
   ],
   "source": [
    "#para verificar si un elemento esta en el diccionario \n",
    "\"The Bodyguard\" in DICT "
   ]
  },
  {
   "cell_type": "code",
   "execution_count": 12,
   "id": "77a9daa2",
   "metadata": {},
   "outputs": [
    {
     "data": {
      "text/plain": [
       "True"
      ]
     },
     "execution_count": 12,
     "metadata": {},
     "output_type": "execute_result"
    }
   ],
   "source": [
    "\"Back in Black\" in DICT "
   ]
  },
  {
   "cell_type": "code",
   "execution_count": 14,
   "id": "c3c94dab",
   "metadata": {},
   "outputs": [
    {
     "data": {
      "text/plain": [
       "dict_keys(['Back in Black', 'The Dark side of the Moon', 'Graduation'])"
      ]
     },
     "execution_count": 14,
     "metadata": {},
     "output_type": "execute_result"
    }
   ],
   "source": [
    "#para ver solo las keys \n",
    "DICT.keys()"
   ]
  },
  {
   "cell_type": "code",
   "execution_count": 15,
   "id": "d55279e8",
   "metadata": {},
   "outputs": [
    {
     "data": {
      "text/plain": [
       "dict_values([1980, 1973, '2007'])"
      ]
     },
     "execution_count": 15,
     "metadata": {},
     "output_type": "execute_result"
    }
   ],
   "source": [
    "#para ver el contenido \n",
    "DICT.values()"
   ]
  },
  {
   "cell_type": "code",
   "execution_count": 16,
   "id": "d29e35ac",
   "metadata": {},
   "outputs": [
    {
     "data": {
      "text/plain": [
       "dict_values([0, 1, 2])"
      ]
     },
     "execution_count": 16,
     "metadata": {},
     "output_type": "execute_result"
    }
   ],
   "source": [
    "D = {'a':0,'b':1,'c':2}\n",
    "D.values()"
   ]
  },
  {
   "cell_type": "code",
   "execution_count": 17,
   "id": "25c16b8b",
   "metadata": {},
   "outputs": [
    {
     "data": {
      "text/plain": [
       "1"
      ]
     },
     "execution_count": 17,
     "metadata": {},
     "output_type": "execute_result"
    }
   ],
   "source": [
    "D = {'a':0,'b':1,'c':2}\n",
    "D['b']"
   ]
  },
  {
   "cell_type": "code",
   "execution_count": 18,
   "id": "46381f11",
   "metadata": {},
   "outputs": [
    {
     "data": {
      "text/plain": [
       "(4, 4, 4)"
      ]
     },
     "execution_count": 18,
     "metadata": {},
     "output_type": "execute_result"
    }
   ],
   "source": [
    "Dict={\"A\":1,\"B\":\"2\",\"C\":[3,3,3],\"D\":(4,4,4),'E':5,'F':6}\n",
    "Dict[\"D\"]"
   ]
  },
  {
   "cell_type": "code",
   "execution_count": null,
   "id": "70f56d8b",
   "metadata": {},
   "outputs": [],
   "source": []
  }
 ],
 "metadata": {
  "kernelspec": {
   "display_name": "Python 3 (ipykernel)",
   "language": "python",
   "name": "python3"
  },
  "language_info": {
   "codemirror_mode": {
    "name": "ipython",
    "version": 3
   },
   "file_extension": ".py",
   "mimetype": "text/x-python",
   "name": "python",
   "nbconvert_exporter": "python",
   "pygments_lexer": "ipython3",
   "version": "3.10.5"
  }
 },
 "nbformat": 4,
 "nbformat_minor": 5
}
