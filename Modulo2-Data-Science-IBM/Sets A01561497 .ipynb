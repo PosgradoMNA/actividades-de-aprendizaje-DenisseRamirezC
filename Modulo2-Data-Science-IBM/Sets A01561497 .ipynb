{
 "cells": [
  {
   "cell_type": "code",
   "execution_count": 2,
   "id": "57642649",
   "metadata": {},
   "outputs": [
    {
     "name": "stdout",
     "output_type": "stream",
     "text": [
      "{'soul', 'hard rock', 'pop', 'rock', 'disco', 'r&b'}\n"
     ]
    }
   ],
   "source": [
    "#al igual, los sets tambien son un tipo de coleccion, pero estos no estan ordenados, no almacenan el index de sus elementos \n",
    "#solo tienen elementos unicos, no pueden ser igual \n",
    "#se definen con llaves \n",
    "Set1={'pop','rock','soul','hard rock','rock', 'r&b', 'disco'}\n",
    "print(Set1)\n",
    "#se borro uno de rock, y los elementos no los imprime ordenados "
   ]
  },
  {
   "cell_type": "code",
   "execution_count": 4,
   "id": "ac410329",
   "metadata": {},
   "outputs": [
    {
     "name": "stdout",
     "output_type": "stream",
     "text": [
      "{'Michael Jackson', 'Thriller', 1982}\n"
     ]
    }
   ],
   "source": [
    "#la funcion set convierte listas a sets\n",
    "album_list = [\"Michael Jackson\", \"Thriller\", \"Thriller\", 1982]\n",
    "album_set = set(album_list)\n",
    "print(album_set)#se elimino un Thriller "
   ]
  },
  {
   "cell_type": "code",
   "execution_count": 5,
   "id": "cddd5a9e",
   "metadata": {},
   "outputs": [
    {
     "name": "stdout",
     "output_type": "stream",
     "text": [
      "{'NSYNC', 'Thriller', 'AC/DC', 'Back in Black'}\n"
     ]
    }
   ],
   "source": [
    "#set operations \n",
    "#para añadir\n",
    "A = {\"Thriller\", \"Back in Black\", \"AC/DC\"}\n",
    "A.add(\"NSYNC\")\n",
    "print(A)\n"
   ]
  },
  {
   "cell_type": "code",
   "execution_count": 6,
   "id": "3c4fb1d8",
   "metadata": {},
   "outputs": [
    {
     "name": "stdout",
     "output_type": "stream",
     "text": [
      "{'Thriller', 'AC/DC', 'Back in Black'}\n"
     ]
    }
   ],
   "source": [
    "#para eliminar \n",
    "A.remove(\"NSYNC\")\n",
    "print(A)"
   ]
  },
  {
   "cell_type": "code",
   "execution_count": 7,
   "id": "f6fc97d3",
   "metadata": {},
   "outputs": [
    {
     "data": {
      "text/plain": [
       "True"
      ]
     },
     "execution_count": 7,
     "metadata": {},
     "output_type": "execute_result"
    }
   ],
   "source": [
    "#para saber si un elemento esta en la lista \n",
    "\"AC/DC\" in A "
   ]
  },
  {
   "cell_type": "code",
   "execution_count": 8,
   "id": "ce477961",
   "metadata": {},
   "outputs": [
    {
     "data": {
      "text/plain": [
       "False"
      ]
     },
     "execution_count": 8,
     "metadata": {},
     "output_type": "execute_result"
    }
   ],
   "source": [
    "\"Who\" in A"
   ]
  },
  {
   "cell_type": "code",
   "execution_count": 10,
   "id": "e8af4f4d",
   "metadata": {},
   "outputs": [
    {
     "data": {
      "text/plain": [
       "{'AC/DC', 'Back in Black'}"
      ]
     },
     "execution_count": 10,
     "metadata": {},
     "output_type": "execute_result"
    }
   ],
   "source": [
    "#Si utilizamos el simbolo &, nos devuelve unicamente los elementos que tienen en comun los dos sets \n",
    "album_set_1 = {\"Thriller\", \"Back in Black\", \"AC/DC\"}\n",
    "album_set_2 = {\"Back in Black\", \"AC/DC\", \"The Dark Side of the Moon\"}\n",
    "album_set_1  & album_set_2  "
   ]
  },
  {
   "cell_type": "code",
   "execution_count": 11,
   "id": "ff3acb87",
   "metadata": {},
   "outputs": [
    {
     "data": {
      "text/plain": [
       "{'AC/DC', 'Back in Black', 'The Dark Side of the Moon', 'Thriller'}"
      ]
     },
     "execution_count": 11,
     "metadata": {},
     "output_type": "execute_result"
    }
   ],
   "source": [
    "#Para unir los sets considerando todos los elementos \n",
    "album_set_1.union(album_set_2)"
   ]
  },
  {
   "cell_type": "code",
   "execution_count": 12,
   "id": "bbdfa75f",
   "metadata": {},
   "outputs": [
    {
     "data": {
      "text/plain": [
       "True"
      ]
     },
     "execution_count": 12,
     "metadata": {},
     "output_type": "execute_result"
    }
   ],
   "source": [
    "#si queremos saber si los elementos de un set estan en otro set \n",
    "album_set_1 = {\"Thriller\", \"Back in Black\", \"AC/DC\"}\n",
    "album_set_4 = {\"Back in Black\", \"AC/DC\"}\n",
    "album_set_4.issubset(album_set_1)"
   ]
  },
  {
   "cell_type": "code",
   "execution_count": 13,
   "id": "dad0e1bb",
   "metadata": {},
   "outputs": [
    {
     "data": {
      "text/plain": [
       "False"
      ]
     },
     "execution_count": 13,
     "metadata": {},
     "output_type": "execute_result"
    }
   ],
   "source": [
    "album_set_5 = {\"Thriller\", \"Back in Black\", \"AC/DC\"}\n",
    "album_set_6 = {\"Back in Black\", \"AC/DC\", \"Beat it\"}\n",
    "album_set_6.issubset(album_set_5)"
   ]
  },
  {
   "cell_type": "code",
   "execution_count": 14,
   "id": "a3267b7d",
   "metadata": {},
   "outputs": [
    {
     "data": {
      "text/plain": [
       "{'Beat it'}"
      ]
     },
     "execution_count": 14,
     "metadata": {},
     "output_type": "execute_result"
    }
   ],
   "source": [
    "#Buscar elementos que solo estan en uno de los sets \n",
    "album_set_6.difference(album_set_5)"
   ]
  },
  {
   "cell_type": "code",
   "execution_count": 18,
   "id": "4350d442",
   "metadata": {},
   "outputs": [
    {
     "name": "stdout",
     "output_type": "stream",
     "text": [
      "the sum of A is:  6\n",
      "the sum of D is:  3\n"
     ]
    }
   ],
   "source": [
    "#sumar elementos de un set y compararlos \n",
    "A =[1,2,2,1]\n",
    "D = set([1,2,2,1])\n",
    "print(\"the sum of A is: \", sum(A))\n",
    "print(\"the sum of D is: \", sum(D))"
   ]
  },
  {
   "cell_type": "code",
   "execution_count": 19,
   "id": "5522d1b2",
   "metadata": {},
   "outputs": [
    {
     "data": {
      "text/plain": [
       "{'A', 'B', 'C', 'Z'}"
      ]
     },
     "execution_count": 19,
     "metadata": {},
     "output_type": "execute_result"
    }
   ],
   "source": [
    "S={'A','B','C'}\n",
    "\n",
    "U={'A','Z','C'}\n",
    "\n",
    "U.union(S)"
   ]
  },
  {
   "cell_type": "code",
   "execution_count": 21,
   "id": "d19679d5",
   "metadata": {},
   "outputs": [
    {
     "data": {
      "text/plain": [
       "{'A', 'C'}"
      ]
     },
     "execution_count": 21,
     "metadata": {},
     "output_type": "execute_result"
    }
   ],
   "source": [
    "S={'A','B','C'}\n",
    "\n",
    "U={'A','Z','C'}\n",
    "interseccion=S&U\n",
    "interseccion"
   ]
  },
  {
   "cell_type": "code",
   "execution_count": null,
   "id": "66134af1",
   "metadata": {},
   "outputs": [],
   "source": []
  }
 ],
 "metadata": {
  "kernelspec": {
   "display_name": "Python 3 (ipykernel)",
   "language": "python",
   "name": "python3"
  },
  "language_info": {
   "codemirror_mode": {
    "name": "ipython",
    "version": 3
   },
   "file_extension": ".py",
   "mimetype": "text/x-python",
   "name": "python",
   "nbconvert_exporter": "python",
   "pygments_lexer": "ipython3",
   "version": "3.10.5"
  }
 },
 "nbformat": 4,
 "nbformat_minor": 5
}
