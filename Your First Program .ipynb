{
 "cells": [
  {
   "cell_type": "code",
   "execution_count": 2,
   "id": "78743e2b",
   "metadata": {},
   "outputs": [
    {
     "name": "stdout",
     "output_type": "stream",
     "text": [
      "Hello Python 101\n",
      "Hello\n",
      "World!\n"
     ]
    }
   ],
   "source": [
    "print(\"Hello Python 101\")\n",
    "#Syntactic error = codigo mal escrito por ejemplo Frint en lugar de Print \n",
    "#Semantic error = error de logica, no esta mal escrito pero tu codigo no arroja lo que quieres, por ejemplo Python 102 en lugar de Python 101 \n",
    "print(\"Hello\\nWorld!\")"
   ]
  },
  {
   "cell_type": "code",
   "execution_count": null,
   "id": "c7b9f7af",
   "metadata": {},
   "outputs": [],
   "source": []
  }
 ],
 "metadata": {
  "kernelspec": {
   "display_name": "Python 3 (ipykernel)",
   "language": "python",
   "name": "python3"
  },
  "language_info": {
   "codemirror_mode": {
    "name": "ipython",
    "version": 3
   },
   "file_extension": ".py",
   "mimetype": "text/x-python",
   "name": "python",
   "nbconvert_exporter": "python",
   "pygments_lexer": "ipython3",
   "version": "3.10.5"
  }
 },
 "nbformat": 4,
 "nbformat_minor": 5
}
