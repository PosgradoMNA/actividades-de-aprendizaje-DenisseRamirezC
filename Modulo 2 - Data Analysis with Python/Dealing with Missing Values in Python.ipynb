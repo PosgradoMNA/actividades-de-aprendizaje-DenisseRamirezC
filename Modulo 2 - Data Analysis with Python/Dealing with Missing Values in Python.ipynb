{
 "cells": [
  {
   "cell_type": "markdown",
   "id": "d5b2cdea",
   "metadata": {},
   "source": [
    "# MODULE 2 - Data Wrangling\n",
    " Ejercicios realizados por: Denisse Maria Ramirez Colmenero A01561497 \n",
    " \n",
    " \n",
    " Subtema: Dealing with Missing Values in Python"
   ]
  },
  {
   "cell_type": "markdown",
   "id": "354aaedc",
   "metadata": {},
   "source": [
    "Missing value: When no data value is stored for a feature for a particular observation.\n",
    "it appears as “?”, “N/A”, 0 or just a blank cell.\n",
    "\n",
    "Typical options:\n",
    "\n",
    "-Check with the data collection source to find what the actual value should be.\n",
    "-Remove the data where that missing value is found (drop the whole variable or the data entry)\n",
    "(remover toda la variable solo si hay muchos valores nulos)\n",
    "-Replace the missing values (with average of the entire variable, fuel-type, moda, by guess)\n",
    "-Leave it like that"
   ]
  },
  {
   "cell_type": "code",
   "execution_count": null,
   "id": "1e3d6405",
   "metadata": {},
   "outputs": [],
   "source": [
    "dataframe.dropna() # remove data that contains missing values, axis=0 rows, axis=1 columns\n",
    "\n",
    "df.dropna(subset=[\"price\"], axis=0, inplace=True)#inplace = true modifica el dataset\n",
    "#this is the same as:\n",
    "df = df.dropna(subset=[\"price\"], axis=0)"
   ]
  },
  {
   "cell_type": "markdown",
   "id": "bcbbb07b",
   "metadata": {},
   "source": [
    "To replace missing values like NaNs with actual values:"
   ]
  },
  {
   "cell_type": "code",
   "execution_count": null,
   "id": "cd3a9802",
   "metadata": {},
   "outputs": [],
   "source": [
    "daframe.replace(missing_value, new_value)\n",
    "\n",
    "mean = df[\"normalized-losses\"].mean()\n",
    "df[\"normalized-losses\"].replace(np.nan, mean) #los valores nan cambiarlos por el promedio\n"
   ]
  }
 ],
 "metadata": {
  "kernelspec": {
   "display_name": "Python 3 (ipykernel)",
   "language": "python",
   "name": "python3"
  },
  "language_info": {
   "codemirror_mode": {
    "name": "ipython",
    "version": 3
   },
   "file_extension": ".py",
   "mimetype": "text/x-python",
   "name": "python",
   "nbconvert_exporter": "python",
   "pygments_lexer": "ipython3",
   "version": "3.10.5"
  }
 },
 "nbformat": 4,
 "nbformat_minor": 5
}
