{
 "cells": [
  {
   "cell_type": "markdown",
   "id": "ae3c83dc",
   "metadata": {},
   "source": [
    "# MODULE 2 - Data Wrangling\n",
    " Ejercicios realizados por: Denisse Maria Ramirez Colmenero A01561497 \n",
    " \n",
    " \n",
    " Subtema: Pre-processing Data in Python"
   ]
  },
  {
   "cell_type": "markdown",
   "id": "d5c6d421",
   "metadata": {},
   "source": [
    "Pre-processing: the process of converting or mapping data from the initial \"raw\" from into another format, in order to prepare data for further analysis. Also known as: data cleaning, data wrangling. "
   ]
  },
  {
   "cell_type": "markdown",
   "id": "bea7eb97",
   "metadata": {},
   "source": [
    "Different columns of numerical data may have very different ranges, and direct comparison is often not meaningful.\n",
    "\n",
    "Normalization: Is a way to bring all data into a similar range, for more useful comparison. \n",
    "Techiniques of normalization: centering and scaling.\n",
    "\n",
    "Data Binning: creates bigger categories from a set of numerical values.\n",
    "It is particularly useful for comparison between groups of data.\n",
    "\n",
    "Note: each row of the column represents a sample "
   ]
  },
  {
   "cell_type": "code",
   "execution_count": null,
   "id": "a3953457",
   "metadata": {},
   "outputs": [],
   "source": [
    "df['symboling']=df['symboling']+1 #sumar un uno a todos los registros de esa columna"
   ]
  }
 ],
 "metadata": {
  "kernelspec": {
   "display_name": "Python 3 (ipykernel)",
   "language": "python",
   "name": "python3"
  },
  "language_info": {
   "codemirror_mode": {
    "name": "ipython",
    "version": 3
   },
   "file_extension": ".py",
   "mimetype": "text/x-python",
   "name": "python",
   "nbconvert_exporter": "python",
   "pygments_lexer": "ipython3",
   "version": "3.10.5"
  }
 },
 "nbformat": 4,
 "nbformat_minor": 5
}
