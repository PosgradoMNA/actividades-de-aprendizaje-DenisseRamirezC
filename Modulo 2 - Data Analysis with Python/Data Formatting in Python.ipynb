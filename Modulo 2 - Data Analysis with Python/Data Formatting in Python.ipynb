{
 "cells": [
  {
   "cell_type": "markdown",
   "id": "5a35472b",
   "metadata": {},
   "source": [
    "# MODULE 2 - Data Wrangling\n",
    " Ejercicios realizados por: Denisse Maria Ramirez Colmenero A01561497 \n",
    " \n",
    " \n",
    " Subtema: Data Formatting in Python"
   ]
  },
  {
   "cell_type": "markdown",
   "id": "6a5356ad",
   "metadata": {},
   "source": [
    "Data is usually collected from different places, by different people, which may be stored in\n",
    "different formats.\n",
    "\n",
    "Data Formatting:  bringing data into a common standard of expression. Ensures that data is consistent and easily\n",
    "understandable.\n"
   ]
  },
  {
   "cell_type": "code",
   "execution_count": null,
   "id": "413501cb",
   "metadata": {},
   "outputs": [],
   "source": [
    "#para convertir de una unidad a otra \n",
    "df['city-mpg'] = 235/['city-mpg'] #L/100Km\n",
    "df.rename(columns=('city-mpg': 'city-L/100Km'), inplace=True)"
   ]
  },
  {
   "cell_type": "code",
   "execution_count": null,
   "id": "40d9bada",
   "metadata": {},
   "outputs": [],
   "source": [
    "#Sometimes the data type may be incorrectly established.\n",
    "dataframe.dtypes() #to identify data type of each variable\n",
    "\n",
    "df[\"price\"] = df[\"price\"].astype(\"int\")#convertir "
   ]
  }
 ],
 "metadata": {
  "kernelspec": {
   "display_name": "Python 3 (ipykernel)",
   "language": "python",
   "name": "python3"
  },
  "language_info": {
   "codemirror_mode": {
    "name": "ipython",
    "version": 3
   },
   "file_extension": ".py",
   "mimetype": "text/x-python",
   "name": "python",
   "nbconvert_exporter": "python",
   "pygments_lexer": "ipython3",
   "version": "3.10.5"
  }
 },
 "nbformat": 4,
 "nbformat_minor": 5
}
