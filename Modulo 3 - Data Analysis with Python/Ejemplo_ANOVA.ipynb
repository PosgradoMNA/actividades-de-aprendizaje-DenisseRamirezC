{
 "cells": [
  {
   "cell_type": "code",
   "execution_count": 24,
   "id": "2db62296",
   "metadata": {},
   "outputs": [],
   "source": [
    "import pandas as pd\n",
    "import numpy as np\n",
    "import matplotlib.pyplot as plt\n",
    "import seaborn as sns\n",
    "import pingouin as pg\n",
    "from statsmodels.graphics.factorplots import interaction_plot"
   ]
  },
  {
   "cell_type": "code",
   "execution_count": 23,
   "id": "a3152ead",
   "metadata": {},
   "outputs": [
    {
     "name": "stdout",
     "output_type": "stream",
     "text": [
      "Collecting pingouin\n",
      "  Downloading pingouin-0.5.2.tar.gz (185 kB)\n",
      "\u001b[2K     \u001b[90m━━━━━━━━━━━━━━━━━━━━━━━━━━━━━━━━━━━━━━━\u001b[0m \u001b[32m185.4/185.4 kB\u001b[0m \u001b[31m2.8 MB/s\u001b[0m eta \u001b[36m0:00:00\u001b[0ma \u001b[36m0:00:01\u001b[0m\n",
      "\u001b[?25h  Preparing metadata (setup.py) ... \u001b[?25ldone\n",
      "\u001b[?25hRequirement already satisfied: numpy>=1.19 in /Library/Frameworks/Python.framework/Versions/3.10/lib/python3.10/site-packages (from pingouin) (1.22.4)\n",
      "Requirement already satisfied: scipy>=1.7 in /Library/Frameworks/Python.framework/Versions/3.10/lib/python3.10/site-packages (from pingouin) (1.9.1)\n",
      "Requirement already satisfied: pandas>=1.0 in /Library/Frameworks/Python.framework/Versions/3.10/lib/python3.10/site-packages (from pingouin) (1.4.2)\n",
      "Requirement already satisfied: matplotlib>=3.0.2 in /Library/Frameworks/Python.framework/Versions/3.10/lib/python3.10/site-packages (from pingouin) (3.6.0)\n",
      "Requirement already satisfied: seaborn>=0.11 in /Library/Frameworks/Python.framework/Versions/3.10/lib/python3.10/site-packages (from pingouin) (0.12.0)\n",
      "Collecting statsmodels>=0.13\n",
      "  Downloading statsmodels-0.13.2-cp310-cp310-macosx_10_9_x86_64.whl (9.7 MB)\n",
      "\u001b[2K     \u001b[90m━━━━━━━━━━━━━━━━━━━━━━━━━━━━━━━━━━━━━━━━\u001b[0m \u001b[32m9.7/9.7 MB\u001b[0m \u001b[31m4.7 MB/s\u001b[0m eta \u001b[36m0:00:00\u001b[0m00:01\u001b[0m00:01\u001b[0m\n",
      "\u001b[?25hCollecting scikit-learn<1.1.0\n",
      "  Downloading scikit_learn-1.0.2-cp310-cp310-macosx_10_13_x86_64.whl (8.0 MB)\n",
      "\u001b[2K     \u001b[90m━━━━━━━━━━━━━━━━━━━━━━━━━━━━━━━━━━━━━━━━\u001b[0m \u001b[32m8.0/8.0 MB\u001b[0m \u001b[31m7.7 MB/s\u001b[0m eta \u001b[36m0:00:00\u001b[0m00:01\u001b[0m00:01\u001b[0mm\n",
      "\u001b[?25hCollecting pandas_flavor>=0.2.0\n",
      "  Downloading pandas_flavor-0.3.0-py3-none-any.whl (6.3 kB)\n",
      "Collecting outdated\n",
      "  Downloading outdated-0.2.1-py3-none-any.whl (7.5 kB)\n",
      "Collecting tabulate\n",
      "  Downloading tabulate-0.9.0-py3-none-any.whl (35 kB)\n",
      "Requirement already satisfied: python-dateutil>=2.7 in /Library/Frameworks/Python.framework/Versions/3.10/lib/python3.10/site-packages (from matplotlib>=3.0.2->pingouin) (2.8.2)\n",
      "Requirement already satisfied: fonttools>=4.22.0 in /Library/Frameworks/Python.framework/Versions/3.10/lib/python3.10/site-packages (from matplotlib>=3.0.2->pingouin) (4.37.3)\n",
      "Requirement already satisfied: kiwisolver>=1.0.1 in /Library/Frameworks/Python.framework/Versions/3.10/lib/python3.10/site-packages (from matplotlib>=3.0.2->pingouin) (1.4.4)\n",
      "Requirement already satisfied: cycler>=0.10 in /Library/Frameworks/Python.framework/Versions/3.10/lib/python3.10/site-packages (from matplotlib>=3.0.2->pingouin) (0.11.0)\n",
      "Requirement already satisfied: contourpy>=1.0.1 in /Library/Frameworks/Python.framework/Versions/3.10/lib/python3.10/site-packages (from matplotlib>=3.0.2->pingouin) (1.0.5)\n",
      "Requirement already satisfied: packaging>=20.0 in /Library/Frameworks/Python.framework/Versions/3.10/lib/python3.10/site-packages (from matplotlib>=3.0.2->pingouin) (21.3)\n",
      "Requirement already satisfied: pillow>=6.2.0 in /Library/Frameworks/Python.framework/Versions/3.10/lib/python3.10/site-packages (from matplotlib>=3.0.2->pingouin) (9.2.0)\n",
      "Requirement already satisfied: pyparsing>=2.2.1 in /Library/Frameworks/Python.framework/Versions/3.10/lib/python3.10/site-packages (from matplotlib>=3.0.2->pingouin) (3.0.9)\n",
      "Requirement already satisfied: pytz>=2020.1 in /Library/Frameworks/Python.framework/Versions/3.10/lib/python3.10/site-packages (from pandas>=1.0->pingouin) (2022.1)\n",
      "Collecting lazy-loader==0.1rc2\n",
      "  Downloading lazy_loader-0.1rc2-py3-none-any.whl (5.1 kB)\n",
      "Collecting xarray\n",
      "  Downloading xarray-2022.10.0-py3-none-any.whl (947 kB)\n",
      "\u001b[2K     \u001b[90m━━━━━━━━━━━━━━━━━━━━━━━━━━━━━━━━━━━━━━━\u001b[0m \u001b[32m947.6/947.6 kB\u001b[0m \u001b[31m4.4 MB/s\u001b[0m eta \u001b[36m0:00:00\u001b[0m00:01\u001b[0m00:01\u001b[0m\n",
      "\u001b[?25hRequirement already satisfied: threadpoolctl>=2.0.0 in /Library/Frameworks/Python.framework/Versions/3.10/lib/python3.10/site-packages (from scikit-learn<1.1.0->pingouin) (3.1.0)\n",
      "Requirement already satisfied: joblib>=0.11 in /Library/Frameworks/Python.framework/Versions/3.10/lib/python3.10/site-packages (from scikit-learn<1.1.0->pingouin) (1.2.0)\n",
      "Collecting patsy>=0.5.2\n",
      "  Downloading patsy-0.5.3-py2.py3-none-any.whl (233 kB)\n",
      "\u001b[2K     \u001b[90m━━━━━━━━━━━━━━━━━━━━━━━━━━━━━━━━━━━━━━━\u001b[0m \u001b[32m233.8/233.8 kB\u001b[0m \u001b[31m3.5 MB/s\u001b[0m eta \u001b[36m0:00:00\u001b[0ma \u001b[36m0:00:01\u001b[0m\n",
      "\u001b[?25hRequirement already satisfied: requests in /Library/Frameworks/Python.framework/Versions/3.10/lib/python3.10/site-packages (from outdated->pingouin) (2.28.0)\n",
      "Collecting littleutils\n",
      "  Downloading littleutils-0.2.2.tar.gz (6.6 kB)\n",
      "  Preparing metadata (setup.py) ... \u001b[?25ldone\n",
      "\u001b[?25hRequirement already satisfied: six in /Library/Frameworks/Python.framework/Versions/3.10/lib/python3.10/site-packages (from patsy>=0.5.2->statsmodels>=0.13->pingouin) (1.16.0)\n",
      "Requirement already satisfied: certifi>=2017.4.17 in /Library/Frameworks/Python.framework/Versions/3.10/lib/python3.10/site-packages (from requests->outdated->pingouin) (2022.6.15)\n",
      "Requirement already satisfied: charset-normalizer~=2.0.0 in /Library/Frameworks/Python.framework/Versions/3.10/lib/python3.10/site-packages (from requests->outdated->pingouin) (2.0.12)\n",
      "Requirement already satisfied: idna<4,>=2.5 in /Library/Frameworks/Python.framework/Versions/3.10/lib/python3.10/site-packages (from requests->outdated->pingouin) (3.3)\n",
      "Requirement already satisfied: urllib3<1.27,>=1.21.1 in /Library/Frameworks/Python.framework/Versions/3.10/lib/python3.10/site-packages (from requests->outdated->pingouin) (1.26.9)\n",
      "Using legacy 'setup.py install' for pingouin, since package 'wheel' is not installed.\n",
      "Using legacy 'setup.py install' for littleutils, since package 'wheel' is not installed.\n",
      "Installing collected packages: littleutils, tabulate, patsy, lazy-loader, scikit-learn, outdated, xarray, statsmodels, pandas_flavor, pingouin\n",
      "  Running setup.py install for littleutils ... \u001b[?25ldone\n",
      "\u001b[?25h  Attempting uninstall: scikit-learn\n",
      "    Found existing installation: scikit-learn 1.1.2\n",
      "    Uninstalling scikit-learn-1.1.2:\n",
      "      Successfully uninstalled scikit-learn-1.1.2\n",
      "  Running setup.py install for pingouin ... \u001b[?25ldone\n",
      "\u001b[?25hSuccessfully installed lazy-loader-0.1rc2 littleutils-0.2.2 outdated-0.2.1 pandas_flavor-0.3.0 patsy-0.5.3 pingouin-0.5.2 scikit-learn-1.0.2 statsmodels-0.13.2 tabulate-0.9.0 xarray-2022.10.0\n",
      "\n",
      "\u001b[1m[\u001b[0m\u001b[34;49mnotice\u001b[0m\u001b[1;39;49m]\u001b[0m\u001b[39;49m A new release of pip available: \u001b[0m\u001b[31;49m22.2.2\u001b[0m\u001b[39;49m -> \u001b[0m\u001b[32;49m22.3\u001b[0m\n",
      "\u001b[1m[\u001b[0m\u001b[34;49mnotice\u001b[0m\u001b[1;39;49m]\u001b[0m\u001b[39;49m To update, run: \u001b[0m\u001b[32;49mpip install --upgrade pip\u001b[0m\n"
     ]
    }
   ],
   "source": [
    "!pip3 install pingouin"
   ]
  },
  {
   "cell_type": "code",
   "execution_count": 3,
   "id": "9e19a56d",
   "metadata": {},
   "outputs": [
    {
     "data": {
      "text/html": [
       "<div>\n",
       "<style scoped>\n",
       "    .dataframe tbody tr th:only-of-type {\n",
       "        vertical-align: middle;\n",
       "    }\n",
       "\n",
       "    .dataframe tbody tr th {\n",
       "        vertical-align: top;\n",
       "    }\n",
       "\n",
       "    .dataframe thead th {\n",
       "        text-align: right;\n",
       "    }\n",
       "</style>\n",
       "<table border=\"1\" class=\"dataframe\">\n",
       "  <thead>\n",
       "    <tr style=\"text-align: right;\">\n",
       "      <th></th>\n",
       "      <th>posicion</th>\n",
       "      <th>bateo</th>\n",
       "    </tr>\n",
       "  </thead>\n",
       "  <tbody>\n",
       "    <tr>\n",
       "      <th>0</th>\n",
       "      <td>OF</td>\n",
       "      <td>0.359</td>\n",
       "    </tr>\n",
       "    <tr>\n",
       "      <th>1</th>\n",
       "      <td>IF</td>\n",
       "      <td>0.340</td>\n",
       "    </tr>\n",
       "    <tr>\n",
       "      <th>2</th>\n",
       "      <td>IF</td>\n",
       "      <td>0.330</td>\n",
       "    </tr>\n",
       "    <tr>\n",
       "      <th>3</th>\n",
       "      <td>OF</td>\n",
       "      <td>0.341</td>\n",
       "    </tr>\n",
       "  </tbody>\n",
       "</table>\n",
       "</div>"
      ],
      "text/plain": [
       "  posicion  bateo\n",
       "0       OF  0.359\n",
       "1       IF  0.340\n",
       "2       IF  0.330\n",
       "3       OF  0.341"
      ]
     },
     "execution_count": 3,
     "metadata": {},
     "output_type": "execute_result"
    }
   ],
   "source": [
    "#muestra de jugadores de la liga seleccionados aleatoriamente, su posición en el equipo y su bateo. \n",
    "posicion = [\"OF\", \"IF\", \"IF\", \"OF\", \"IF\", \"IF\", \"OF\", \"OF\", \"IF\", \"IF\", \"OF\",\n",
    "            \"OF\", \"IF\", \"OF\", \"IF\", \"IF\", \"IF\", \"OF\", \"IF\", \"OF\", \"IF\", \"OF\",\n",
    "            \"IF\", \"OF\", \"IF\", \"DH\", \"IF\", \"IF\", \"IF\", \"OF\", \"IF\", \"IF\", \"IF\",\n",
    "            \"IF\", \"OF\", \"IF\", \"OF\", \"IF\", \"IF\", \"IF\", \"IF\", \"OF\", \"OF\", \"IF\",\n",
    "            \"OF\", \"OF\", \"IF\", \"IF\", \"OF\", \"OF\", \"IF\", \"OF\", \"OF\", \"OF\", \"IF\",\n",
    "            \"DH\", \"OF\", \"OF\", \"OF\", \"IF\", \"IF\", \"IF\", \"IF\", \"OF\", \"IF\", \"IF\",\n",
    "            \"OF\", \"IF\", \"IF\", \"IF\", \"OF\", \"IF\", \"IF\", \"OF\", \"IF\", \"IF\", \"IF\",\n",
    "            \"IF\", \"IF\", \"IF\", \"OF\", \"DH\", \"OF\", \"OF\", \"IF\", \"IF\", \"IF\", \"OF\",\n",
    "            \"IF\", \"OF\", \"IF\", \"IF\", \"IF\", \"IF\", \"OF\", \"OF\", \"OF\", \"DH\", \"OF\",\n",
    "            \"IF\", \"IF\", \"OF\", \"OF\", \"C\", \"IF\", \"OF\", \"OF\", \"IF\", \"OF\", \"IF\",\n",
    "            \"IF\", \"IF\", \"OF\", \"C\", \"OF\", \"IF\", \"C\", \"OF\", \"IF\", \"DH\", \"C\", \"OF\",\n",
    "            \"OF\", \"IF\", \"C\", \"IF\", \"IF\", \"IF\", \"IF\", \"IF\", \"IF\", \"OF\", \"C\", \"IF\",\n",
    "            \"OF\", \"OF\", \"IF\", \"OF\", \"IF\", \"OF\", \"DH\", \"C\", \"IF\", \"OF\", \"IF\",\n",
    "            \"IF\", \"OF\", \"IF\", \"OF\", \"IF\", \"C\", \"IF\", \"IF\", \"OF\", \"IF\", \"IF\",\n",
    "            \"IF\", \"OF\", \"OF\", \"OF\", \"IF\", \"IF\", \"C\", \"IF\", \"C\", \"C\", \"OF\", \"OF\",\n",
    "            \"OF\", \"IF\", \"OF\", \"IF\", \"C\", \"DH\", \"DH\", \"C\", \"OF\", \"IF\", \"OF\", \"IF\",\n",
    "            \"IF\", \"IF\", \"C\", \"IF\", \"OF\", \"DH\", \"IF\", \"IF\", \"IF\", \"OF\", \"OF\", \"C\",\n",
    "            \"OF\", \"OF\", \"IF\", \"IF\", \"OF\", \"OF\", \"OF\", \"OF\", \"OF\", \"OF\", \"IF\",\n",
    "            \"IF\", \"DH\", \"OF\", \"IF\", \"IF\", \"OF\", \"IF\", \"IF\", \"IF\", \"IF\", \"OF\",\n",
    "            \"IF\", \"C\", \"IF\", \"IF\", \"C\", \"IF\", \"OF\", \"IF\", \"DH\", \"C\", \"OF\", \"C\",\n",
    "            \"IF\", \"IF\", \"OF\", \"C\", \"IF\", \"IF\", \"IF\", \"C\", \"C\", \"C\", \"OF\", \"OF\",\n",
    "            \"IF\", \"IF\", \"IF\", \"IF\", \"OF\", \"OF\", \"C\", \"IF\", \"IF\", \"OF\", \"C\", \"OF\",\n",
    "            \"OF\", \"OF\", \"OF\", \"OF\", \"OF\", \"OF\", \"OF\", \"OF\", \"OF\", \"OF\", \"C\",\n",
    "            \"IF\", \"DH\", \"IF\", \"C\", \"DH\", \"C\", \"IF\", \"C\", \"OF\", \"C\", \"C\", \"IF\",\n",
    "            \"OF\", \"IF\", \"IF\", \"IF\", \"IF\", \"IF\", \"IF\", \"IF\", \"IF\", \"OF\", \"OF\",\n",
    "            \"OF\", \"IF\", \"OF\", \"OF\", \"IF\", \"IF\", \"IF\", \"OF\", \"C\", \"IF\", \"IF\",\n",
    "            \"IF\", \"IF\", \"OF\", \"OF\", \"IF\", \"OF\", \"IF\", \"OF\", \"OF\", \"OF\", \"IF\",\n",
    "            \"OF\", \"OF\", \"IF\", \"OF\", \"IF\", \"C\", \"IF\", \"IF\", \"C\", \"DH\", \"OF\", \"IF\",\n",
    "            \"C\", \"C\", \"IF\", \"C\", \"IF\", \"OF\", \"C\", \"C\", \"OF\"]\n",
    "\n",
    "bateo = [0.359, 0.34, 0.33, 0.341, 0.366, 0.333, 0.37, 0.331, 0.381, 0.332,\n",
    "         0.365, 0.345, 0.313, 0.325, 0.327, 0.337, 0.336, 0.291, 0.34, 0.31,\n",
    "         0.365, 0.356, 0.35, 0.39, 0.388, 0.345, 0.27, 0.306, 0.393, 0.331,\n",
    "         0.365, 0.369, 0.342, 0.329, 0.376, 0.414, 0.327, 0.354, 0.321, 0.37,\n",
    "         0.313, 0.341, 0.325, 0.312, 0.346, 0.34, 0.401, 0.372, 0.352, 0.354,\n",
    "         0.341, 0.365, 0.333, 0.378, 0.385, 0.287, 0.303, 0.334, 0.359, 0.352,\n",
    "         0.321, 0.323, 0.302, 0.349, 0.32, 0.356, 0.34, 0.393, 0.288, 0.339,\n",
    "         0.388, 0.283, 0.311, 0.401, 0.353, 0.42, 0.393, 0.347, 0.424, 0.378,\n",
    "         0.346, 0.355, 0.322, 0.341, 0.306, 0.329, 0.271, 0.32, 0.308, 0.322,\n",
    "         0.388, 0.351, 0.341, 0.31, 0.393, 0.411, 0.323, 0.37, 0.364, 0.321,\n",
    "         0.351, 0.329, 0.327, 0.402, 0.32, 0.353, 0.319, 0.319, 0.343, 0.288,\n",
    "         0.32, 0.338, 0.322, 0.303, 0.356, 0.303, 0.351, 0.325, 0.325, 0.361,\n",
    "         0.375, 0.341, 0.383, 0.328, 0.3, 0.277, 0.359, 0.358, 0.381, 0.324,\n",
    "         0.293, 0.324, 0.329, 0.294, 0.32, 0.361, 0.347, 0.317, 0.316, 0.342,\n",
    "         0.368, 0.319, 0.317, 0.302, 0.321, 0.336, 0.347, 0.279, 0.309, 0.358,\n",
    "         0.318, 0.342, 0.299, 0.332, 0.349, 0.387, 0.335, 0.358, 0.312, 0.307,\n",
    "         0.28, 0.344, 0.314, 0.24, 0.331, 0.357, 0.346, 0.351, 0.293, 0.308,\n",
    "         0.374, 0.362, 0.294, 0.314, 0.374, 0.315, 0.324, 0.382, 0.353, 0.305,\n",
    "         0.338, 0.366, 0.357, 0.326, 0.332, 0.323, 0.306, 0.31, 0.31, 0.333,\n",
    "         0.34, 0.4, 0.389, 0.308, 0.411, 0.278, 0.326, 0.335, 0.316, 0.371,\n",
    "         0.314, 0.384, 0.379, 0.32, 0.395, 0.347, 0.307, 0.326, 0.316, 0.341,\n",
    "         0.308, 0.327, 0.337, 0.36, 0.32, 0.372, 0.306, 0.305, 0.347, 0.281,\n",
    "         0.281, 0.296, 0.306, 0.343, 0.378, 0.393, 0.337, 0.327, 0.336, 0.32,\n",
    "         0.381, 0.306, 0.358, 0.311, 0.284, 0.364, 0.315, 0.342, 0.367, 0.307,\n",
    "         0.351, 0.372, 0.304, 0.296, 0.332, 0.312, 0.437, 0.295, 0.316, 0.298,\n",
    "         0.302, 0.342, 0.364, 0.304, 0.295, 0.305, 0.359, 0.335, 0.338, 0.341,\n",
    "         0.3, 0.378, 0.412, 0.273, 0.308, 0.309, 0.263, 0.291, 0.359, 0.352,\n",
    "         0.262, 0.274, 0.334, 0.343, 0.267, 0.321, 0.3, 0.327, 0.313, 0.316,\n",
    "         0.337, 0.268, 0.342, 0.292, 0.39, 0.332, 0.315, 0.298, 0.298, 0.331,\n",
    "         0.361, 0.272, 0.287, 0.34, 0.317, 0.327, 0.354, 0.317, 0.311, 0.174,\n",
    "         0.302, 0.302, 0.291, 0.29, 0.268, 0.352, 0.341, 0.265, 0.307, 0.36,\n",
    "         0.305, 0.254, 0.279, 0.321, 0.305, 0.35, 0.308, 0.326, 0.219, 0.23,\n",
    "         0.322, 0.405, 0.321, 0.291, 0.312, 0.357, 0.324]\n",
    "\n",
    "         \n",
    "datos = pd.DataFrame({'posicion': posicion, 'bateo': bateo})\n",
    "datos.head(4)"
   ]
  },
  {
   "cell_type": "code",
   "execution_count": 5,
   "id": "42d1c68e",
   "metadata": {},
   "outputs": [
    {
     "data": {
      "text/plain": [
       "posicion\n",
       "C      39\n",
       "DH     14\n",
       "IF    154\n",
       "OF    120\n",
       "dtype: int64"
      ]
     },
     "execution_count": 5,
     "metadata": {},
     "output_type": "execute_result"
    }
   ],
   "source": [
    "#agrupar por numero de observaciones por posición \n",
    "datos.groupby('posicion').size()"
   ]
  },
  {
   "cell_type": "code",
   "execution_count": 8,
   "id": "efeede0d",
   "metadata": {},
   "outputs": [
    {
     "data": {
      "text/html": [
       "<div>\n",
       "<style scoped>\n",
       "    .dataframe tbody tr th:only-of-type {\n",
       "        vertical-align: middle;\n",
       "    }\n",
       "\n",
       "    .dataframe tbody tr th {\n",
       "        vertical-align: top;\n",
       "    }\n",
       "\n",
       "    .dataframe thead tr th {\n",
       "        text-align: left;\n",
       "    }\n",
       "\n",
       "    .dataframe thead tr:last-of-type th {\n",
       "        text-align: right;\n",
       "    }\n",
       "</style>\n",
       "<table border=\"1\" class=\"dataframe\">\n",
       "  <thead>\n",
       "    <tr>\n",
       "      <th></th>\n",
       "      <th colspan=\"2\" halign=\"left\">bateo</th>\n",
       "    </tr>\n",
       "    <tr>\n",
       "      <th></th>\n",
       "      <th>mean</th>\n",
       "      <th>std</th>\n",
       "    </tr>\n",
       "    <tr>\n",
       "      <th>posicion</th>\n",
       "      <th></th>\n",
       "      <th></th>\n",
       "    </tr>\n",
       "  </thead>\n",
       "  <tbody>\n",
       "    <tr>\n",
       "      <th>C</th>\n",
       "      <td>0.322615</td>\n",
       "      <td>0.045132</td>\n",
       "    </tr>\n",
       "    <tr>\n",
       "      <th>DH</th>\n",
       "      <td>0.347786</td>\n",
       "      <td>0.036037</td>\n",
       "    </tr>\n",
       "    <tr>\n",
       "      <th>IF</th>\n",
       "      <td>0.331526</td>\n",
       "      <td>0.037095</td>\n",
       "    </tr>\n",
       "    <tr>\n",
       "      <th>OF</th>\n",
       "      <td>0.334250</td>\n",
       "      <td>0.029444</td>\n",
       "    </tr>\n",
       "  </tbody>\n",
       "</table>\n",
       "</div>"
      ],
      "text/plain": [
       "             bateo          \n",
       "              mean       std\n",
       "posicion                    \n",
       "C         0.322615  0.045132\n",
       "DH        0.347786  0.036037\n",
       "IF        0.331526  0.037095\n",
       "OF        0.334250  0.029444"
      ]
     },
     "execution_count": 8,
     "metadata": {},
     "output_type": "execute_result"
    }
   ],
   "source": [
    "#obtener la media y la desviación estándar de cada grupo de posición \n",
    "datos.groupby('posicion').agg(['mean', 'std'])"
   ]
  },
  {
   "cell_type": "code",
   "execution_count": 9,
   "id": "59abd57e",
   "metadata": {},
   "outputs": [
    {
     "data": {
      "image/png": "[encoded data removed]",
      "text/plain": [
       "<Figure size 576x288 with 1 Axes>"
      ]
     },
     "metadata": {
      "needs_background": "light"
     },
     "output_type": "display_data"
    }
   ],
   "source": [
    "#análisis gráfico\n",
    "fig, ax = plt.subplots(1, 1, figsize=(8, 4))\n",
    "sns.boxplot(x=\"posicion\", y=\"bateo\", data=datos, ax=ax)\n",
    "sns.swarmplot(x=\"posicion\", y=\"bateo\", data=datos, color='black', alpha = 0.5, ax=ax);\n",
    "#El tamaño de las cajas es similar para todos los niveles por lo que no hay indicios de falta de homocedasticidad. "
   ]
  },
  {
   "cell_type": "code",
   "execution_count": 28,
   "id": "3db15d68",
   "metadata": {},
   "outputs": [
    {
     "data": {
      "text/html": [
       "<div>\n",
       "<style scoped>\n",
       "    .dataframe tbody tr th:only-of-type {\n",
       "        vertical-align: middle;\n",
       "    }\n",
       "\n",
       "    .dataframe tbody tr th {\n",
       "        vertical-align: top;\n",
       "    }\n",
       "\n",
       "    .dataframe thead th {\n",
       "        text-align: right;\n",
       "    }\n",
       "</style>\n",
       "<table border=\"1\" class=\"dataframe\">\n",
       "  <thead>\n",
       "    <tr style=\"text-align: right;\">\n",
       "      <th></th>\n",
       "      <th>Source</th>\n",
       "      <th>SS</th>\n",
       "      <th>DF</th>\n",
       "      <th>MS</th>\n",
       "      <th>F</th>\n",
       "      <th>p-unc</th>\n",
       "      <th>np2</th>\n",
       "    </tr>\n",
       "  </thead>\n",
       "  <tbody>\n",
       "    <tr>\n",
       "      <th>0</th>\n",
       "      <td>posicion</td>\n",
       "      <td>0.007557</td>\n",
       "      <td>3</td>\n",
       "      <td>0.002519</td>\n",
       "      <td>1.994349</td>\n",
       "      <td>0.114693</td>\n",
       "      <td>0.018186</td>\n",
       "    </tr>\n",
       "    <tr>\n",
       "      <th>1</th>\n",
       "      <td>Within</td>\n",
       "      <td>0.407984</td>\n",
       "      <td>323</td>\n",
       "      <td>0.001263</td>\n",
       "      <td>NaN</td>\n",
       "      <td>NaN</td>\n",
       "      <td>NaN</td>\n",
       "    </tr>\n",
       "  </tbody>\n",
       "</table>\n",
       "</div>"
      ],
      "text/plain": [
       "     Source        SS   DF        MS         F     p-unc       np2\n",
       "0  posicion  0.007557    3  0.002519  1.994349  0.114693  0.018186\n",
       "1    Within  0.407984  323  0.001263       NaN       NaN       NaN"
      ]
     },
     "execution_count": 28,
     "metadata": {},
     "output_type": "execute_result"
    }
   ],
   "source": [
    "pg.anova(data=datos, dv='bateo', between='posicion', detailed=True)"
   ]
  },
  {
   "cell_type": "markdown",
   "id": "aa3a3d50",
   "metadata": {},
   "source": [
    "#EJEMPLO2"
   ]
  },
  {
   "cell_type": "code",
   "execution_count": 29,
   "id": "bf7aa05b",
   "metadata": {},
   "outputs": [],
   "source": [
    "import pandas as pd\n",
    "import numpy as np\n",
    "import matplotlib.pyplot as plt\n",
    "import seaborn as sns\n",
    "import pingouin as pg"
   ]
  },
  {
   "cell_type": "code",
   "execution_count": 30,
   "id": "3819cbea",
   "metadata": {},
   "outputs": [
    {
     "data": {
      "text/html": [
       "<div>\n",
       "<style scoped>\n",
       "    .dataframe tbody tr th:only-of-type {\n",
       "        vertical-align: middle;\n",
       "    }\n",
       "\n",
       "    .dataframe tbody tr th {\n",
       "        vertical-align: top;\n",
       "    }\n",
       "\n",
       "    .dataframe thead th {\n",
       "        text-align: right;\n",
       "    }\n",
       "</style>\n",
       "<table border=\"1\" class=\"dataframe\">\n",
       "  <thead>\n",
       "    <tr style=\"text-align: right;\">\n",
       "      <th></th>\n",
       "      <th>subject</th>\n",
       "      <th>sex</th>\n",
       "      <th>age</th>\n",
       "      <th>result</th>\n",
       "    </tr>\n",
       "  </thead>\n",
       "  <tbody>\n",
       "    <tr>\n",
       "      <th>0</th>\n",
       "      <td>1</td>\n",
       "      <td>female</td>\n",
       "      <td>adult</td>\n",
       "      <td>7.1</td>\n",
       "    </tr>\n",
       "    <tr>\n",
       "      <th>1</th>\n",
       "      <td>2</td>\n",
       "      <td>male</td>\n",
       "      <td>adult</td>\n",
       "      <td>11.0</td>\n",
       "    </tr>\n",
       "    <tr>\n",
       "      <th>2</th>\n",
       "      <td>3</td>\n",
       "      <td>male</td>\n",
       "      <td>adult</td>\n",
       "      <td>5.8</td>\n",
       "    </tr>\n",
       "    <tr>\n",
       "      <th>3</th>\n",
       "      <td>4</td>\n",
       "      <td>female</td>\n",
       "      <td>adult</td>\n",
       "      <td>8.8</td>\n",
       "    </tr>\n",
       "    <tr>\n",
       "      <th>4</th>\n",
       "      <td>5</td>\n",
       "      <td>male</td>\n",
       "      <td>adult</td>\n",
       "      <td>8.6</td>\n",
       "    </tr>\n",
       "  </tbody>\n",
       "</table>\n",
       "</div>"
      ],
      "text/plain": [
       "   subject     sex    age  result\n",
       "0        1  female  adult     7.1\n",
       "1        2    male  adult    11.0\n",
       "2        3    male  adult     5.8\n",
       "3        4  female  adult     8.8\n",
       "4        5    male  adult     8.6"
      ]
     },
     "execution_count": 30,
     "metadata": {},
     "output_type": "execute_result"
    }
   ],
   "source": [
    "#DATOS\n",
    "subject = [1, 2, 3, 4, 5, 6, 7, 8, 9, 10, 11, 12, 13, 14, 15, 16, 17, 18, 19, 20,\n",
    "           21, 22, 23, 24, 25, 26, 27, 28, 29, 30]\n",
    "\n",
    "sex = [\"female\", \"male\", \"male\", \"female\", \"male\", \"male\", \"male\", \"female\",\n",
    "       \"female\", \"male\", \"male\", \"male\", \"male\", \"female\", \"female\", \"female\",\n",
    "       \"male\", \"female\", \"female\", \"male\", \"male\", \"female\", \"male\", \"male\",\n",
    "       \"male\", \"male\", \"male\", \"male\", \"female\", \"male\"]\n",
    "\n",
    "age = [\"adult\", \"adult\", \"adult\", \"adult\", \"adult\", \"adult\", \"young\", \"young\",\n",
    "       \"adult\", \"young\", \"young\", \"adult\", \"young\", \"young\", \"young\", \"adult\",\n",
    "       \"young\", \"adult\", \"young\", \"young\", \"young\", \"young\", \"adult\", \"young\",\n",
    "       \"young\", \"young\", \"young\", \"young\", \"young\", \"adult\"]\n",
    "\n",
    "result = [7.1, 11.0, 5.8, 8.8, 8.6, 8.0, 3.0, 5.2, 3.4, 4.0, 5.3, 11.3, 4.6, 6.4,\n",
    "          13.5, 4.7, 5.1, 7.3, 9.5, 5.4, 3.7, 6.2, 10.0, 1.7, 2.9, 3.2, 4.7, 4.9,\n",
    "          9.8, 9.4]\n",
    "\n",
    "datos = pd.DataFrame({\n",
    "    'subject': subject,\n",
    "    'sex': sex,\n",
    "    'age': age,\n",
    "    'result': result\n",
    "})\n",
    "\n",
    "datos.head()"
   ]
  },
  {
   "cell_type": "code",
   "execution_count": 31,
   "id": "d3722686",
   "metadata": {},
   "outputs": [
    {
     "data": {
      "image/png": "[encoded data removed]",
      "text/plain": [
       "<Figure size 720x288 with 2 Axes>"
      ]
     },
     "metadata": {
      "needs_background": "light"
     },
     "output_type": "display_data"
    }
   ],
   "source": [
    "fig, axs = plt.subplots(1, 2, figsize=(10, 4))\n",
    "axs[0].set_title('Resultados vs edad')\n",
    "sns.boxplot(x=\"age\", y=\"result\", data=datos, ax=axs[0])\n",
    "sns.swarmplot(x=\"age\", y=\"result\", data=datos, color='black',\n",
    "              alpha = 0.5, ax=axs[0])\n",
    "\n",
    "axs[1].set_title('Resultados vs sexo')\n",
    "sns.boxplot(x=\"sex\", y=\"result\", data=datos, ax=axs[1])\n",
    "sns.swarmplot(x=\"sex\", y=\"result\", data=datos, color='black',\n",
    "              alpha = 0.5, ax=axs[1]);"
   ]
  },
  {
   "cell_type": "code",
   "execution_count": 32,
   "id": "e46e02c3",
   "metadata": {},
   "outputs": [
    {
     "name": "stdout",
     "output_type": "stream",
     "text": [
      "Resultados medios y desviación típica por edad\n"
     ]
    },
    {
     "data": {
      "text/html": [
       "<div>\n",
       "<style scoped>\n",
       "    .dataframe tbody tr th:only-of-type {\n",
       "        vertical-align: middle;\n",
       "    }\n",
       "\n",
       "    .dataframe tbody tr th {\n",
       "        vertical-align: top;\n",
       "    }\n",
       "\n",
       "    .dataframe thead th {\n",
       "        text-align: right;\n",
       "    }\n",
       "</style>\n",
       "<table border=\"1\" class=\"dataframe\">\n",
       "  <thead>\n",
       "    <tr style=\"text-align: right;\">\n",
       "      <th></th>\n",
       "      <th>mean</th>\n",
       "      <th>std</th>\n",
       "    </tr>\n",
       "    <tr>\n",
       "      <th>age</th>\n",
       "      <th></th>\n",
       "      <th></th>\n",
       "    </tr>\n",
       "  </thead>\n",
       "  <tbody>\n",
       "    <tr>\n",
       "      <th>adult</th>\n",
       "      <td>7.950000</td>\n",
       "      <td>2.431049</td>\n",
       "    </tr>\n",
       "    <tr>\n",
       "      <th>young</th>\n",
       "      <td>5.505556</td>\n",
       "      <td>2.871047</td>\n",
       "    </tr>\n",
       "  </tbody>\n",
       "</table>\n",
       "</div>"
      ],
      "text/plain": [
       "           mean       std\n",
       "age                      \n",
       "adult  7.950000  2.431049\n",
       "young  5.505556  2.871047"
      ]
     },
     "execution_count": 32,
     "metadata": {},
     "output_type": "execute_result"
    }
   ],
   "source": [
    "print('Resultados medios y desviación típica por edad')\n",
    "datos.groupby('age')['result'].agg(['mean', 'std'])"
   ]
  },
  {
   "cell_type": "code",
   "execution_count": 33,
   "id": "b4acd93d",
   "metadata": {},
   "outputs": [
    {
     "name": "stdout",
     "output_type": "stream",
     "text": [
      "Resultados medios y desviación típica por sexo\n"
     ]
    },
    {
     "data": {
      "text/html": [
       "<div>\n",
       "<style scoped>\n",
       "    .dataframe tbody tr th:only-of-type {\n",
       "        vertical-align: middle;\n",
       "    }\n",
       "\n",
       "    .dataframe tbody tr th {\n",
       "        vertical-align: top;\n",
       "    }\n",
       "\n",
       "    .dataframe thead th {\n",
       "        text-align: right;\n",
       "    }\n",
       "</style>\n",
       "<table border=\"1\" class=\"dataframe\">\n",
       "  <thead>\n",
       "    <tr style=\"text-align: right;\">\n",
       "      <th></th>\n",
       "      <th>mean</th>\n",
       "      <th>std</th>\n",
       "    </tr>\n",
       "    <tr>\n",
       "      <th>sex</th>\n",
       "      <th></th>\n",
       "      <th></th>\n",
       "    </tr>\n",
       "  </thead>\n",
       "  <tbody>\n",
       "    <tr>\n",
       "      <th>female</th>\n",
       "      <td>7.445455</td>\n",
       "      <td>2.828202</td>\n",
       "    </tr>\n",
       "    <tr>\n",
       "      <th>male</th>\n",
       "      <td>5.926316</td>\n",
       "      <td>2.906858</td>\n",
       "    </tr>\n",
       "  </tbody>\n",
       "</table>\n",
       "</div>"
      ],
      "text/plain": [
       "            mean       std\n",
       "sex                       \n",
       "female  7.445455  2.828202\n",
       "male    5.926316  2.906858"
      ]
     },
     "execution_count": 33,
     "metadata": {},
     "output_type": "execute_result"
    }
   ],
   "source": [
    "print('Resultados medios y desviación típica por sexo')\n",
    "datos.groupby('sex')['result'].agg(['mean', 'std'])"
   ]
  },
  {
   "cell_type": "code",
   "execution_count": 34,
   "id": "cc0d4068",
   "metadata": {},
   "outputs": [
    {
     "name": "stdout",
     "output_type": "stream",
     "text": [
      "Resultados medios y desviación típica por edad y sexo\n"
     ]
    },
    {
     "data": {
      "text/html": [
       "<div>\n",
       "<style scoped>\n",
       "    .dataframe tbody tr th:only-of-type {\n",
       "        vertical-align: middle;\n",
       "    }\n",
       "\n",
       "    .dataframe tbody tr th {\n",
       "        vertical-align: top;\n",
       "    }\n",
       "\n",
       "    .dataframe thead th {\n",
       "        text-align: right;\n",
       "    }\n",
       "</style>\n",
       "<table border=\"1\" class=\"dataframe\">\n",
       "  <thead>\n",
       "    <tr style=\"text-align: right;\">\n",
       "      <th></th>\n",
       "      <th></th>\n",
       "      <th>mean</th>\n",
       "      <th>std</th>\n",
       "    </tr>\n",
       "    <tr>\n",
       "      <th>age</th>\n",
       "      <th>sex</th>\n",
       "      <th></th>\n",
       "      <th></th>\n",
       "    </tr>\n",
       "  </thead>\n",
       "  <tbody>\n",
       "    <tr>\n",
       "      <th rowspan=\"2\" valign=\"top\">adult</th>\n",
       "      <th>female</th>\n",
       "      <td>6.260000</td>\n",
       "      <td>2.170944</td>\n",
       "    </tr>\n",
       "    <tr>\n",
       "      <th>male</th>\n",
       "      <td>9.157143</td>\n",
       "      <td>1.900752</td>\n",
       "    </tr>\n",
       "    <tr>\n",
       "      <th rowspan=\"2\" valign=\"top\">young</th>\n",
       "      <th>female</th>\n",
       "      <td>8.433333</td>\n",
       "      <td>3.106552</td>\n",
       "    </tr>\n",
       "    <tr>\n",
       "      <th>male</th>\n",
       "      <td>4.041667</td>\n",
       "      <td>1.157158</td>\n",
       "    </tr>\n",
       "  </tbody>\n",
       "</table>\n",
       "</div>"
      ],
      "text/plain": [
       "                  mean       std\n",
       "age   sex                       \n",
       "adult female  6.260000  2.170944\n",
       "      male    9.157143  1.900752\n",
       "young female  8.433333  3.106552\n",
       "      male    4.041667  1.157158"
      ]
     },
     "execution_count": 34,
     "metadata": {},
     "output_type": "execute_result"
    }
   ],
   "source": [
    "print('Resultados medios y desviación típica por edad y sexo')\n",
    "datos.groupby(['age', 'sex'])['result'].agg(['mean', 'std'])"
   ]
  },
  {
   "cell_type": "markdown",
   "id": "2a7d93ef",
   "metadata": {},
   "source": [
    "A partir de la representación gráfica y el cálculo de las medias se puede intuir que existe una diferencia en el efecto del fármaco dependiendo de la edad y también del sexo. El efecto parece ser mayor en mujeres que en hombres y en adultos que en jóvenes, si bien la significancia se tendrá que confirmar con el ANOVA. La distribución de las observaciones de cada nivel parece simétrica con la presencia de un único valor atípico. A priori parece que se satisfacen las condiciones necesarias para un ANOVA, aunque habrá que confirmarlas estudiando los residuos."
   ]
  },
  {
   "cell_type": "code",
   "execution_count": 35,
   "id": "bf7962de",
   "metadata": {},
   "outputs": [
    {
     "data": {
      "image/png": "[encoded data removed]",
      "text/plain": [
       "<Figure size 432x288 with 1 Axes>"
      ]
     },
     "metadata": {
      "needs_background": "light"
     },
     "output_type": "display_data"
    }
   ],
   "source": [
    "# Gráfico de interacciones\n",
    "# ==============================================================================\n",
    "fig, ax = plt.subplots(figsize=(6, 4))\n",
    "fig = interaction_plot(\n",
    "    x        = datos.age,\n",
    "    trace    = datos.sex,\n",
    "    response = datos.result,\n",
    "    ax       = ax,\n",
    ")"
   ]
  },
  {
   "cell_type": "markdown",
   "id": "6e411a68",
   "metadata": {},
   "source": [
    "Se observa una clara interacción entre ambos factores. La respuesta al fármaco es distinta entre adultos y jóvenes, y de tendencia inversa dependiendo del sexo. En mujeres, la respuesta es mayor cuando son jóvenes que cuando son adultas y en hombres mayor cuando son adultos y menor cuando son jóvenes. El ANOVA confirmará si las diferencias observadas son significativas."
   ]
  },
  {
   "cell_type": "code",
   "execution_count": 36,
   "id": "7c77588e",
   "metadata": {},
   "outputs": [
    {
     "data": {
      "text/html": [
       "<div>\n",
       "<style scoped>\n",
       "    .dataframe tbody tr th:only-of-type {\n",
       "        vertical-align: middle;\n",
       "    }\n",
       "\n",
       "    .dataframe tbody tr th {\n",
       "        vertical-align: top;\n",
       "    }\n",
       "\n",
       "    .dataframe thead th {\n",
       "        text-align: right;\n",
       "    }\n",
       "</style>\n",
       "<table border=\"1\" class=\"dataframe\">\n",
       "  <thead>\n",
       "    <tr style=\"text-align: right;\">\n",
       "      <th></th>\n",
       "      <th>Source</th>\n",
       "      <th>SS</th>\n",
       "      <th>DF</th>\n",
       "      <th>MS</th>\n",
       "      <th>F</th>\n",
       "      <th>p-unc</th>\n",
       "      <th>np2</th>\n",
       "    </tr>\n",
       "  </thead>\n",
       "  <tbody>\n",
       "    <tr>\n",
       "      <th>0</th>\n",
       "      <td>sex</td>\n",
       "      <td>12.0164</td>\n",
       "      <td>1.0</td>\n",
       "      <td>12.0164</td>\n",
       "      <td>3.0183</td>\n",
       "      <td>0.0942</td>\n",
       "      <td>0.1040</td>\n",
       "    </tr>\n",
       "    <tr>\n",
       "      <th>1</th>\n",
       "      <td>age</td>\n",
       "      <td>38.9611</td>\n",
       "      <td>1.0</td>\n",
       "      <td>38.9611</td>\n",
       "      <td>9.7862</td>\n",
       "      <td>0.0043</td>\n",
       "      <td>0.2735</td>\n",
       "    </tr>\n",
       "    <tr>\n",
       "      <th>2</th>\n",
       "      <td>sex * age</td>\n",
       "      <td>89.6114</td>\n",
       "      <td>1.0</td>\n",
       "      <td>89.6114</td>\n",
       "      <td>22.5085</td>\n",
       "      <td>0.0001</td>\n",
       "      <td>0.4640</td>\n",
       "    </tr>\n",
       "    <tr>\n",
       "      <th>3</th>\n",
       "      <td>Residual</td>\n",
       "      <td>103.5116</td>\n",
       "      <td>26.0</td>\n",
       "      <td>3.9812</td>\n",
       "      <td>NaN</td>\n",
       "      <td>NaN</td>\n",
       "      <td>NaN</td>\n",
       "    </tr>\n",
       "  </tbody>\n",
       "</table>\n",
       "</div>"
      ],
      "text/plain": [
       "      Source        SS    DF       MS        F   p-unc     np2\n",
       "0        sex   12.0164   1.0  12.0164   3.0183  0.0942  0.1040\n",
       "1        age   38.9611   1.0  38.9611   9.7862  0.0043  0.2735\n",
       "2  sex * age   89.6114   1.0  89.6114  22.5085  0.0001  0.4640\n",
       "3   Residual  103.5116  26.0   3.9812      NaN     NaN     NaN"
      ]
     },
     "execution_count": 36,
     "metadata": {},
     "output_type": "execute_result"
    }
   ],
   "source": [
    "# Test ANOVA de dos vías (Two-way ANOVA)\n",
    "# ==============================================================================\n",
    "pg.anova(\n",
    "    data     = datos,\n",
    "    dv       = 'result',\n",
    "    between  = ['sex', 'age'],\n",
    "    detailed = True\n",
    ").round(4)"
   ]
  },
  {
   "cell_type": "markdown",
   "id": "8efae206",
   "metadata": {},
   "source": [
    "El análisis de varianza no encuentra diferencias significativas en el efecto del fármaco entre hombres y mujeres (factor sex) pero sí encuentra diferencias significativas entre jóvenes y adultos y entre al menos dos grupos de las combinaciones de sexo y edad, es decir, hay significancia para la interacción. El tamaño del efecto  𝜂2\n",
    "η\n",
    "2\n",
    "  es grande tanto para edad como para la interacción de edad y sexo.\n",
    "\n",
    "Nota: en este caso, el orden en el que se multiplican los factores sí afecta a los resultados puesto que el tamaño de los grupos no es igual. \n"
   ]
  },
  {
   "cell_type": "code",
   "execution_count": null,
   "id": "22f38649",
   "metadata": {},
   "outputs": [],
   "source": []
  }
 ],
 "metadata": {
  "kernelspec": {
   "display_name": "Python 3 (ipykernel)",
   "language": "python",
   "name": "python3"
  },
  "language_info": {
   "codemirror_mode": {
    "name": "ipython",
    "version": 3
   },
   "file_extension": ".py",
   "mimetype": "text/x-python",
   "name": "python",
   "nbconvert_exporter": "python",
   "pygments_lexer": "ipython3",
   "version": "3.10.5"
  }
 },
 "nbformat": 4,
 "nbformat_minor": 5
}
