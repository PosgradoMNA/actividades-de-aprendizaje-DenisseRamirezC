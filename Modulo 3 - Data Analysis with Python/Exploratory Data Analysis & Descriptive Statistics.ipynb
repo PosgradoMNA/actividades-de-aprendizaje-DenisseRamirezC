{
 "cells": [
  {
   "cell_type": "markdown",
   "id": "9bbfb03b",
   "metadata": {},
   "source": [
    "# MODULE 3 - Data Wrangling\n",
    " Ejercicios realizados por: Denisse Maria Ramirez Colmenero A01561497 \n",
    " \n",
    " \n",
    " Subtemas: Exploratory Data Analysis & Descriptive Statistics"
   ]
  },
  {
   "cell_type": "markdown",
   "id": "97a6c4e8",
   "metadata": {},
   "source": [
    "3.1 EDA: \n",
    "Analize data in order to: \n",
    "- summarize main characteristics of the data (gain better understanding of the dataset). \n",
    "- uncover relationships between different variables.\n",
    "- extract important variables for the problem we are trying to solve.\n",
    "\n",
    "Que caracteristicas tienen el mayor impacto en el conjunto de datos? "
   ]
  },
  {
   "cell_type": "markdown",
   "id": "d3b44dcc",
   "metadata": {},
   "source": [
    "3.2 Descriptive Statistics \n",
    "\n",
    "Dar un pequeño resumen acerca de las muestras y sus características"
   ]
  },
  {
   "cell_type": "code",
   "execution_count": null,
   "id": "dceb1616",
   "metadata": {},
   "outputs": [],
   "source": [
    "df.describe() #da una breve idea de la distribución de los datos, su media, std, numero de datapoints, etc. \n",
    "df.value_count() #cuantos registros tiene cada valor de una categoria.\n",
    "drive_wheels_counts.rename(columns={'drive-wheels':'value_counts'}, inplace=True)\n",
    "drive_wheels_counts.index.name='drive-wheels'"
   ]
  },
  {
   "cell_type": "code",
   "execution_count": null,
   "id": "781375c0",
   "metadata": {},
   "outputs": [],
   "source": [
    "sns.boxplot(x='drive-wheels', y='price', data=df)#esto es para poder comparar diferentes categorias de un feature \n",
    "#boxplot, diagrama de caja y bigotes, todas las categorias en una misma gráfica. \n",
    "\n",
    "\n",
    "#SCATTER PLOT \n",
    "#muestra la relacion entre dos variables: predictor (eje x) y target (eje y, que es la que quieres predecir)\n",
    "y = df[\"engine-size\"]\n",
    "x = df[\"price\"]\n",
    "plt.scatter(x,y)\n",
    "\n",
    "plt.title('Scatterplot of Engine Size vs Price')\n",
    "plt.xlabel('engine size')\n",
    "plt.ylabel('price')#la grafica puede indicar si hay una relación lineal proporcional o inversamente proporcional\n",
    "#o si no tienen una relacion muy fuerte, es decir, que no tienen mucho que ver una con la otra. "
   ]
  }
 ],
 "metadata": {
  "kernelspec": {
   "display_name": "Python 3 (ipykernel)",
   "language": "python",
   "name": "python3"
  },
  "language_info": {
   "codemirror_mode": {
    "name": "ipython",
    "version": 3
   },
   "file_extension": ".py",
   "mimetype": "text/x-python",
   "name": "python",
   "nbconvert_exporter": "python",
   "pygments_lexer": "ipython3",
   "version": "3.10.5"
  }
 },
 "nbformat": 4,
 "nbformat_minor": 5
}
