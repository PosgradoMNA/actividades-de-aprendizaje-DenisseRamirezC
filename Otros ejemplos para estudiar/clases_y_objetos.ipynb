{
  "nbformat": 4,
  "nbformat_minor": 0,
  "metadata": {
    "colab": {
      "provenance": [],
      "authorship_tag": "ABX9TyNj2oCEfd6WgmAAzI+STh/C",
      "include_colab_link": true
    },
    "kernelspec": {
      "name": "python3",
      "display_name": "Python 3"
    },
    "language_info": {
      "name": "python"
    }
  },
  "cells": [
    {
      "cell_type": "markdown",
      "metadata": {
        "id": "view-in-github",
        "colab_type": "text"
      },
      "source": [
        "<a href=\"https://colab.research.google.com/github/PosgradoMNA/actividades-de-aprendizaje-DenisseRamirezC/blob/main/clases_y_objetos.ipynb\" target=\"_parent\"><img src=\"https://colab.research.google.com/assets/colab-badge.svg\" alt=\"Open In Colab\"/></a>"
      ]
    },
    {
      "cell_type": "code",
      "source": [
        "class Person: # las clases son del tipo de dato que son nuestros objetos \n",
        "    name = ''\n",
        "    school = ''\n",
        "     \n",
        "    def print_information(self, name, school): #metodo donde vienen los atributos, es decir, las caracteristicas de los objetos \n",
        "        print (self.name) #name y school son atributos \n",
        "        print (self.school)\n",
        "             \n",
        "jorge = Person() #jorge es un objeto de tipo person (clase)\n",
        "jorge.name = 'Jorge'\n",
        "jorge.school = 'Universidad de la vida'\n",
        "jorge.print_information(jorge.name, jorge.school)"
      ],
      "metadata": {
        "colab": {
          "base_uri": "https://localhost:8080/"
        },
        "id": "J2gzY9YW4DRW",
        "outputId": "44661088-7db7-45e5-d9f5-c0c1938b9a6e"
      },
      "execution_count": null,
      "outputs": [
        {
          "output_type": "stream",
          "name": "stdout",
          "text": [
            "Jorge\n",
            "Universidad de la vida\n"
          ]
        }
      ]
    },
    {
      "cell_type": "code",
      "source": [
        "class Circle: #define your class\n",
        "    def _init_(self, radius, color): #init is the method \n",
        "        print(self.radius) #data attributes used to initialize each instance of the class \n",
        "        print(self.color) #self is the parameter that refers to the instance of the class\n",
        " \n",
        "redcircle = Circle()\n",
        "redcircle.radius = 4 \n",
        "redcircle.color = \"Red\"\n",
        "redcircle._init_(redcircle.radius, redcircle.color)"
      ],
      "metadata": {
        "id": "q0lBbgFZ51Zh",
        "colab": {
          "base_uri": "https://localhost:8080/"
        },
        "outputId": "6b679654-6426-44dd-e3cb-84da402779d3"
      },
      "execution_count": 20,
      "outputs": [
        {
          "output_type": "stream",
          "name": "stdout",
          "text": [
            "4\n",
            "Red\n"
          ]
        }
      ]
    }
  ]
}
