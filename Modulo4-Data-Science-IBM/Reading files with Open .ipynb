{
 "cells": [
  {
   "cell_type": "code",
   "execution_count": null,
   "id": "5336ae2d",
   "metadata": {},
   "outputs": [],
   "source": [
    "#Denisse Maria Ramirez Colmenero - A01561497\n",
    "#Ejercicios realizados en Modulo 4 - Working with data in Python \n",
    "#Subtema: Reading files with Open "
   ]
  },
  {
   "cell_type": "code",
   "execution_count": null,
   "id": "fab0bdf0",
   "metadata": {},
   "outputs": [],
   "source": [
    "#Obtener datos de un archivo .txt, se usa la funcion open\n",
    "#objeto es File1 \n",
    "\n",
    "File1 = open(\"resources/data/Example2.txt\",\"r\") #lo primero es el camino al archivo, example2 es el nombre, r por reading\n",
    "\n",
    "#.name es atributo para obtener el nombre del archivo \n",
    "File1.name\n",
    "\n",
    "#.mode, el modo que el objeto esta usando \n",
    "File1.mode\n",
    "File1.close() # para cerrar el archivo "
   ]
  },
  {
   "cell_type": "code",
   "execution_count": null,
   "id": "bdb6d8ac",
   "metadata": {},
   "outputs": [],
   "source": [
    "#Se puede usar tambien el \"with\" statement, este corre todo lo que este dentro y cierra el archivo solo \n",
    "with open(\"Example1.txt\",\"r\") as File1:\n",
    "    file_stuff=File1.read() #guarda los valores del File1 en la variable file_stuff en forma de string\n",
    "    print(file_stuff) #imprimir esa info\n",
    "    \n",
    "print(File1.closed)#verificar que se alla cerrado, aqui ya no puedes leer nada\n",
    "print(file_stuff) #pero si volver a imprimir la info "
   ]
  },
  {
   "cell_type": "code",
   "execution_count": null,
   "id": "158d1d69",
   "metadata": {},
   "outputs": [],
   "source": [
    "with open(\"Example1.txt\",\"r\") as File1:\n",
    "     file_stuff=File1.readlines() #dar salida a cada línea como un elemento de una lista utilizando el método readlines. .readline() para leeer la primera linea nomas\n",
    "        print(file_stuff) \n",
    "\n",
    "        \n",
    "file_stuff: ['This is line 1 \\n', 'This is line 2 \\n', 'This is line 3 \\n'] # cada uno con su indice file_stuff[0] y asi...\n",
    "    "
   ]
  },
  {
   "cell_type": "code",
   "execution_count": null,
   "id": "e04c7ce3",
   "metadata": {},
   "outputs": [],
   "source": [
    "with open(\"Example1.txt\",\"r\") as File1:\n",
    "     file_stuff=File1.readline() #.readline() para leer la primera linea nomas\n",
    "        print(file_stuff) \n",
    "        file_stuff=File1.readline() #.readline() lee la segunda linea \n",
    "        print(file_stuff)   "
   ]
  },
  {
   "cell_type": "code",
   "execution_count": null,
   "id": "0d1bbd50",
   "metadata": {},
   "outputs": [],
   "source": [
    "with open(\"Example1.txt\",\"r\") as File1:\n",
    "    for line in File1: #imprime cada linea individualmente\n",
    "        print(line)\n",
    "        "
   ]
  },
  {
   "cell_type": "code",
   "execution_count": null,
   "id": "af3fc485",
   "metadata": {},
   "outputs": [],
   "source": [
    "with open(\"Example1.txt\",\"r\") as File1:\n",
    "     file_stuff=File1.readlines(4) #imprimir los primeros 4 caracteres por ejemplo \"This\", 16 seria todo \n",
    "        print(file_stuff) "
   ]
  },
  {
   "cell_type": "code",
   "execution_count": null,
   "id": "30007ee3",
   "metadata": {},
   "outputs": [],
   "source": [
    "# Leer solo algunos caracteres \n",
    "\n",
    "with open(\"example1\", \"r\") as file1:\n",
    "    print(file1.read(4))\n",
    "    print(file1.read(4))\n",
    "    print(file1.read(7))\n",
    "    print(file1.read(15))"
   ]
  },
  {
   "cell_type": "code",
   "execution_count": null,
   "id": "0f3b374e",
   "metadata": {},
   "outputs": [],
   "source": [
    "#leer la primera linea \n",
    "with open(example1, \"r\") as file1:\n",
    "    print(\"first line: \" + file1.readline())"
   ]
  },
  {
   "cell_type": "code",
   "execution_count": null,
   "id": "c9c42ec7",
   "metadata": {},
   "outputs": [],
   "source": [
    "with open(example1, \"r\") as file1:\n",
    "    print(file1.readline(20)) # readline con numero lee los 20 primeros caracteres pero si se pasa de la primera linea ya no lee \n",
    "    print(file1.read(20)) # primeros 20 caracteres no importa la linea \n"
   ]
  }
 ],
 "metadata": {
  "kernelspec": {
   "display_name": "Python 3 (ipykernel)",
   "language": "python",
   "name": "python3"
  },
  "language_info": {
   "codemirror_mode": {
    "name": "ipython",
    "version": 3
   },
   "file_extension": ".py",
   "mimetype": "text/x-python",
   "name": "python",
   "nbconvert_exporter": "python",
   "pygments_lexer": "ipython3",
   "version": "3.10.5"
  }
 },
 "nbformat": 4,
 "nbformat_minor": 5
}
