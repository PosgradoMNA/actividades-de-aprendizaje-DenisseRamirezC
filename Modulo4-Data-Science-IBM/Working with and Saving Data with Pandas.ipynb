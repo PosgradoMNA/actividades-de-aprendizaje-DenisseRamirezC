{
 "cells": [
  {
   "cell_type": "code",
   "execution_count": null,
   "id": "6fd00a5b",
   "metadata": {},
   "outputs": [],
   "source": [
    "#Denisse Maria Ramirez Colmenero - A01561497\n",
    "#Ejercicios realizados en Modulo 4 - Working with data in Python \n",
    "#Subtema: Working with and Saving Data with Pandas"
   ]
  },
  {
   "cell_type": "code",
   "execution_count": null,
   "id": "9fe21615",
   "metadata": {},
   "outputs": [],
   "source": [
    "#Al trabajar con dataframes podemos guardar los resultados en diferentes formatos \n",
    "df[\"Released\"].unique() #esta funcion te saca los elementos unicos (si se repiten por ejemplo, te arroja solo uno)\n",
    "df[\"Released\"]>=1980 #te arroja los numeros iguales y mayores de 1980 de la columna released \n",
    "df1=df[df[\"Released\"]>=1980]#seleccionar las columnas especificadas en una linea \n",
    "df1.to_csv('newest songs.csv')#guardar esas columnas en formato csv con el nombre newest songs "
   ]
  },
  {
   "cell_type": "code",
   "execution_count": 2,
   "id": "4b28b205",
   "metadata": {},
   "outputs": [
    {
     "data": {
      "text/plain": [
       "0     True\n",
       "1    False\n",
       "2     True\n",
       "Name: a, dtype: bool"
      ]
     },
     "execution_count": 2,
     "metadata": {},
     "output_type": "execute_result"
    }
   ],
   "source": [
    "import pandas as pd\n",
    "de=pd.DataFrame({'a':[1,2,1],'b':[1,1,1]}) #What type does the following return?\n",
    "de['a']==1 "
   ]
  },
  {
   "cell_type": "code",
   "execution_count": null,
   "id": "013299c7",
   "metadata": {},
   "outputs": [],
   "source": [
    "df.to_csv(\"file.csv\")#Save a dataframe to a csv file."
   ]
  },
  {
   "cell_type": "code",
   "execution_count": null,
   "id": "c2c3e01d",
   "metadata": {},
   "outputs": [],
   "source": [
    "#REVIEW QUESTIONS \n",
    "#Read the file \"Example1.txt\".\n",
    "with open(\"Example1.txt\",\"r\") as file1: \n",
    "    FileContent=file1.readlines()\n",
    "    print(FileContent)\n",
    "\n",
    "#Write to the file \"Example2.txt\".\n",
    "with open(\"Example2.txt\",\"w\") as writefile:\n",
    "    writefile.write(\"This is line A\\n\")\n",
    "    writefile.write(\"This is line B\\n\")\n",
    "    \n",
    "#Append the file \"Example3.txt\".\n",
    "with open(\"Example3.txt\",\"a\") as file1:\n",
    "    file1.write(\"This is line C\\n\")\n",
    "    \n",
    "#What is the result of applying the following method df.head() to the dataframe \"df\"?  r: Prints the first 5 rows of the dataframe.\n"
   ]
  }
 ],
 "metadata": {
  "kernelspec": {
   "display_name": "Python 3 (ipykernel)",
   "language": "python",
   "name": "python3"
  },
  "language_info": {
   "codemirror_mode": {
    "name": "ipython",
    "version": 3
   },
   "file_extension": ".py",
   "mimetype": "text/x-python",
   "name": "python",
   "nbconvert_exporter": "python",
   "pygments_lexer": "ipython3",
   "version": "3.10.5"
  }
 },
 "nbformat": 4,
 "nbformat_minor": 5
}
