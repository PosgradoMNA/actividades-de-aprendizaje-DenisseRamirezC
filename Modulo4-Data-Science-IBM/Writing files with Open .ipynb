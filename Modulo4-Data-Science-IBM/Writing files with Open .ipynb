{
 "cells": [
  {
   "cell_type": "code",
   "execution_count": null,
   "id": "ed12249e",
   "metadata": {},
   "outputs": [],
   "source": [
    "#Denisse Maria Ramirez Colmenero - A01561497\n",
    "#Ejercicios realizados en Modulo 4 - Working with data in Python \n",
    "#Subtema: Writing files with Open "
   ]
  },
  {
   "cell_type": "code",
   "execution_count": null,
   "id": "0bf4ad97",
   "metadata": {},
   "outputs": [],
   "source": [
    "#Metodo write para añadir texto a un archivo, con el modo \"w\"\n",
    "File1 = open(\"/resources/data/Example2.txt\",\"w\") #File1 es el objeto "
   ]
  },
  {
   "cell_type": "code",
   "execution_count": null,
   "id": "60e97026",
   "metadata": {},
   "outputs": [],
   "source": [
    "with open(\"/resources/data/Example2.txt\",\"w\") as File1: #aqui corre todo y luego cierra el archivo \n",
    "    File1.write(\"This is line A\\n\")\n",
    "    File1.write(\"This is line B\\n\")"
   ]
  },
  {
   "cell_type": "code",
   "execution_count": null,
   "id": "ab37f742",
   "metadata": {},
   "outputs": [],
   "source": [
    "Lines = [\"This is line A\\n\",\"This is line B\\n\", \"This is line C\\n\"] #aqui va escribiendo cada elemento dentro de la lista \n",
    "with open(\"/resources/data/Example2.txt\",\"w\") as File1: \n",
    "    for line in Lines: \n",
    "        File1.write(line)"
   ]
  },
  {
   "cell_type": "code",
   "execution_count": null,
   "id": "46eb366a",
   "metadata": {},
   "outputs": [],
   "source": [
    "#En vez de abrirlo con “w”, lo podemos abrir con “a” de appending, para solo añadir texto sin borrar el existente.\n",
    "with open(\"/resources/data/Example2.txt\",\"a\") as File1: \n",
    "    File1.write(\"This is line A\\n\")\n",
    "    File1.write(\"This is line B\\n\")"
   ]
  },
  {
   "cell_type": "code",
   "execution_count": null,
   "id": "c05dc3f6",
   "metadata": {},
   "outputs": [],
   "source": [
    "#Para copiar un archivo dentro de otro, de Example1 a Example3 \n",
    "with open(\"/resources/data/Example2.txt\",\"r\") as readfile: \n",
    "    with open(\"/resources/data/Example3.txt\",\"w\") as writefile: \n",
    "        for line in readfile:\n",
    "            writefile .write(line)"
   ]
  },
  {
   "cell_type": "code",
   "execution_count": null,
   "id": "2c6a0f66",
   "metadata": {},
   "outputs": [],
   "source": []
  }
 ],
 "metadata": {
  "kernelspec": {
   "display_name": "Python 3 (ipykernel)",
   "language": "python",
   "name": "python3"
  },
  "language_info": {
   "codemirror_mode": {
    "name": "ipython",
    "version": 3
   },
   "file_extension": ".py",
   "mimetype": "text/x-python",
   "name": "python",
   "nbconvert_exporter": "python",
   "pygments_lexer": "ipython3",
   "version": "3.10.5"
  }
 },
 "nbformat": 4,
 "nbformat_minor": 5
}
