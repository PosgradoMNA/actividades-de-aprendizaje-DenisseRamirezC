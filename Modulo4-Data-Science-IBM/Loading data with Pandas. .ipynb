{
 "cells": [
  {
   "cell_type": "code",
   "execution_count": null,
   "id": "369f9bd8",
   "metadata": {},
   "outputs": [],
   "source": [
    "#Denisse Maria Ramirez Colmenero - A01561497\n",
    "#Ejercicios realizados en Modulo 4 - Working with data in Python \n",
    "#Subtema: Loading data with Pandas "
   ]
  },
  {
   "cell_type": "code",
   "execution_count": null,
   "id": "5a474773",
   "metadata": {},
   "outputs": [],
   "source": [
    "#Pandas es una libreria para data analysis \n",
    "#importar y tener acceso a clases y funciones\n",
    "import pandas as pd #acortar el nombre\n",
    "csv_path = \"File1.csv\"\n",
    "df = pd.read_csv(csv_path) #cargar un archivo csv "
   ]
  },
  {
   "cell_type": "code",
   "execution_count": null,
   "id": "ff08d511",
   "metadata": {},
   "outputs": [],
   "source": [
    "#Dataframes son estructuras de datos con dos dimensiones para guardar datos de distintos tipos \n",
    "csv_path = \"File1.csv\" #variable que almacena el path del archivo csv \n",
    "df = pd.read_csv(csv_path) #variable que almacena el contenido de esa funcion, short for dataframe\n",
    "df.head() #para imprimir los primeros 5 reglones del dataframe "
   ]
  },
  {
   "cell_type": "code",
   "execution_count": null,
   "id": "7579f05b",
   "metadata": {},
   "outputs": [],
   "source": [
    "#Para archivos de excel \n",
    "xlsx_path = 'file1.xlsx'\n",
    "df = pd.read_excel(xlsx_path)\n",
    "df.head()"
   ]
  },
  {
   "cell_type": "code",
   "execution_count": null,
   "id": "97a16bb4",
   "metadata": {},
   "outputs": [],
   "source": [
    "#Crear un dataframe con diccionarios \n",
    "import pandas as pd \n",
    "songs ={'Album': ['Thriller', 'Back in Black', 'The Dark Side of the Moon', 'The Bodyguard', 'Bat Out Of Hell'], 'Released': [1982,1980,1973,1992,1977], 'Length':['00:42:45', '00:42:56', '00:43:27', '00:57:12','00:52:43']}\n",
    "songs_frame = pd.DataFrame(songs)#la funcion es DataFrame "
   ]
  },
  {
   "cell_type": "code",
   "execution_count": null,
   "id": "cded6401",
   "metadata": {},
   "outputs": [],
   "source": [
    "# de un dataframe existente podemos crear otro con solo una columna del dataframe existente \n",
    "x=df[[\"Length\"]]\n",
    "y=df[['Album','Released']]\n",
    "df.ix[0,0] #para accesar a un dato especifico \n",
    "df.ix[0,'Album']#otro modo \n",
    "z = df.ix[0:2,0:3]"
   ]
  },
  {
   "cell_type": "code",
   "execution_count": null,
   "id": "5a0f4e1b",
   "metadata": {},
   "outputs": [],
   "source": []
  }
 ],
 "metadata": {
  "kernelspec": {
   "display_name": "Python 3 (ipykernel)",
   "language": "python",
   "name": "python3"
  },
  "language_info": {
   "codemirror_mode": {
    "name": "ipython",
    "version": 3
   },
   "file_extension": ".py",
   "mimetype": "text/x-python",
   "name": "python",
   "nbconvert_exporter": "python",
   "pygments_lexer": "ipython3",
   "version": "3.10.5"
  }
 },
 "nbformat": 4,
 "nbformat_minor": 5
}
