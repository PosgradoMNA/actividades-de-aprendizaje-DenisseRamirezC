{
 "cells": [
  {
   "cell_type": "code",
   "execution_count": 1,
   "id": "91667877",
   "metadata": {},
   "outputs": [
    {
     "data": {
      "text/plain": [
       "False"
      ]
     },
     "execution_count": 1,
     "metadata": {},
     "output_type": "execute_result"
    }
   ],
   "source": [
    "#CONDITIONS \n",
    "a = 6\n",
    "a == 7 "
   ]
  },
  {
   "cell_type": "code",
   "execution_count": 2,
   "id": "8bbf8e53",
   "metadata": {},
   "outputs": [
    {
     "data": {
      "text/plain": [
       "True"
      ]
     },
     "execution_count": 2,
     "metadata": {},
     "output_type": "execute_result"
    }
   ],
   "source": [
    "a = 6\n",
    "a == 6"
   ]
  },
  {
   "cell_type": "code",
   "execution_count": 3,
   "id": "d0441c82",
   "metadata": {},
   "outputs": [
    {
     "data": {
      "text/plain": [
       "True"
      ]
     },
     "execution_count": 3,
     "metadata": {},
     "output_type": "execute_result"
    }
   ],
   "source": [
    "i=7\n",
    "i>5"
   ]
  },
  {
   "cell_type": "code",
   "execution_count": 4,
   "id": "90ecef44",
   "metadata": {},
   "outputs": [
    {
     "data": {
      "text/plain": [
       "False"
      ]
     },
     "execution_count": 4,
     "metadata": {},
     "output_type": "execute_result"
    }
   ],
   "source": [
    "d=4\n",
    "d>=5"
   ]
  },
  {
   "cell_type": "code",
   "execution_count": 5,
   "id": "2800e7ce",
   "metadata": {},
   "outputs": [
    {
     "data": {
      "text/plain": [
       "True"
      ]
     },
     "execution_count": 5,
     "metadata": {},
     "output_type": "execute_result"
    }
   ],
   "source": [
    "c=2\n",
    "c<6"
   ]
  },
  {
   "cell_type": "code",
   "execution_count": 6,
   "id": "d9692734",
   "metadata": {},
   "outputs": [
    {
     "data": {
      "text/plain": [
       "True"
      ]
     },
     "execution_count": 6,
     "metadata": {},
     "output_type": "execute_result"
    }
   ],
   "source": [
    "e=3\n",
    "e!=6"
   ]
  },
  {
   "cell_type": "code",
   "execution_count": 7,
   "id": "6f46404d",
   "metadata": {},
   "outputs": [
    {
     "data": {
      "text/plain": [
       "True"
      ]
     },
     "execution_count": 7,
     "metadata": {},
     "output_type": "execute_result"
    }
   ],
   "source": [
    "\"Denisse\" != \"Maria\""
   ]
  },
  {
   "cell_type": "code",
   "execution_count": 8,
   "id": "89c523de",
   "metadata": {},
   "outputs": [
    {
     "data": {
      "text/plain": [
       "False"
      ]
     },
     "execution_count": 8,
     "metadata": {},
     "output_type": "execute_result"
    }
   ],
   "source": [
    "\"Denisse\" == \"Maria\""
   ]
  },
  {
   "cell_type": "code",
   "execution_count": 9,
   "id": "71044482",
   "metadata": {},
   "outputs": [
    {
     "name": "stdout",
     "output_type": "stream",
     "text": [
      "You can enter\n",
      "Move on\n"
     ]
    }
   ],
   "source": [
    "#BRANCHING\n",
    "#The IF statement \n",
    "#si la expresion es verdadera, ejecuta lo que este dentro de ese codigo if \n",
    "age = 19\n",
    "if(age>18):\n",
    "    print(\"You can enter\")\n",
    "    \n",
    "print(\"Move on\")"
   ]
  },
  {
   "cell_type": "code",
   "execution_count": 10,
   "id": "9bc0f9f9",
   "metadata": {},
   "outputs": [
    {
     "name": "stdout",
     "output_type": "stream",
     "text": [
      "Go see Meat Loaf\n",
      "Move on\n"
     ]
    }
   ],
   "source": [
    "#The ELSE statement \n",
    "age = 17\n",
    "if(age>18):\n",
    "    print(\"You can enter\")\n",
    "else: \n",
    "    print(\"Go see Meat Loaf\")\n",
    "print(\"Move on\")"
   ]
  },
  {
   "cell_type": "code",
   "execution_count": 11,
   "id": "5bd394d3",
   "metadata": {},
   "outputs": [
    {
     "name": "stdout",
     "output_type": "stream",
     "text": [
      "You can see Pink Floyd \n",
      "Move on\n"
     ]
    }
   ],
   "source": [
    "#ELIF \n",
    "age = 18\n",
    "if(age>18):\n",
    "    print(\"You can enter\")\n",
    "elif(age==18): \n",
    "    print(\"You can see Pink Floyd \")\n",
    "else: \n",
    "    print(\"Go see Meat Loaf\")\n",
    "print(\"Move on\")"
   ]
  },
  {
   "cell_type": "code",
   "execution_count": 12,
   "id": "0d8ad429",
   "metadata": {},
   "outputs": [
    {
     "data": {
      "text/plain": [
       "False"
      ]
     },
     "execution_count": 12,
     "metadata": {},
     "output_type": "execute_result"
    }
   ],
   "source": [
    "#LOGIC OPERATORS \n",
    "not(True )"
   ]
  },
  {
   "cell_type": "code",
   "execution_count": 13,
   "id": "0660ce90",
   "metadata": {},
   "outputs": [
    {
     "name": "stdout",
     "output_type": "stream",
     "text": [
      "The album was made in the 70s or 90s\n"
     ]
    }
   ],
   "source": [
    "album_year = 1990 \n",
    "if (album_year<1980) or (album_year>1989):\n",
    "    print(\"The album was made in the 70s or 90s\")\n",
    "else:\n",
    "    print(\"The album was made in the 80s\")"
   ]
  },
  {
   "cell_type": "code",
   "execution_count": 14,
   "id": "fe0f6ff9",
   "metadata": {},
   "outputs": [
    {
     "name": "stdout",
     "output_type": "stream",
     "text": [
      "The album was made in the 80s\n"
     ]
    }
   ],
   "source": [
    "album_year = 1983 \n",
    "if (album_year>1979) and (album_year<1990):\n",
    "    print(\"The album was made in the 80s\")"
   ]
  },
  {
   "cell_type": "code",
   "execution_count": 16,
   "id": "79a29146",
   "metadata": {},
   "outputs": [
    {
     "name": "stdout",
     "output_type": "stream",
     "text": [
      "This is a.\n"
     ]
    }
   ],
   "source": [
    "x='a'\n",
    "\n",
    "if(x!='a'):\n",
    "\n",
    "    print(\"This is not a.\")\n",
    "\n",
    "else:\n",
    "\n",
    "    print(\"This is a.\")"
   ]
  },
  {
   "cell_type": "code",
   "execution_count": null,
   "id": "66fd6e99",
   "metadata": {},
   "outputs": [],
   "source": []
  }
 ],
 "metadata": {
  "kernelspec": {
   "display_name": "Python 3 (ipykernel)",
   "language": "python",
   "name": "python3"
  },
  "language_info": {
   "codemirror_mode": {
    "name": "ipython",
    "version": 3
   },
   "file_extension": ".py",
   "mimetype": "text/x-python",
   "name": "python",
   "nbconvert_exporter": "python",
   "pygments_lexer": "ipython3",
   "version": "3.10.5"
  }
 },
 "nbformat": 4,
 "nbformat_minor": 5
}
