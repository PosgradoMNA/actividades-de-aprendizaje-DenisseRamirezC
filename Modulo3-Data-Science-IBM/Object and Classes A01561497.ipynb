{
 "cells": [
  {
   "cell_type": "code",
   "execution_count": 1,
   "id": "8e3075ae",
   "metadata": {},
   "outputs": [
    {
     "data": {
      "text/plain": [
       "list"
      ]
     },
     "execution_count": 1,
     "metadata": {},
     "output_type": "execute_result"
    }
   ],
   "source": [
    "#every object has: a type, an internal data representation, and a set of procedures for interacting with\n",
    "# the object (methods)\n",
    "\n",
    "#an object is an instance of a particular type \n",
    "#Find the type of an objetc:\n",
    "\n",
    "type([1,34,3])"
   ]
  },
  {
   "cell_type": "code",
   "execution_count": 2,
   "id": "0661f4e9",
   "metadata": {},
   "outputs": [
    {
     "data": {
      "text/plain": [
       "int"
      ]
     },
     "execution_count": 2,
     "metadata": {},
     "output_type": "execute_result"
    }
   ],
   "source": [
    "type(1) "
   ]
  },
  {
   "cell_type": "code",
   "execution_count": 4,
   "id": "4342d461",
   "metadata": {},
   "outputs": [
    {
     "data": {
      "text/plain": [
       "[2, 5, 6, 6, 8, 9, 9, 10, 10]"
      ]
     },
     "execution_count": 4,
     "metadata": {},
     "output_type": "execute_result"
    }
   ],
   "source": [
    "#METHODS: functions that every instance of that class or type provides \n",
    "# its how you interact with the data in an object \n",
    "\n",
    "ratings=[10,9,6,5,10,8,9,6,2] #esto son los datos \n",
    "ratings.sort()#sort es el metodo que cambia los datos en el objeto \n",
    "ratings"
   ]
  },
  {
   "cell_type": "code",
   "execution_count": 5,
   "id": "45e4af7d",
   "metadata": {},
   "outputs": [
    {
     "data": {
      "text/plain": [
       "[10, 10, 9, 9, 8, 6, 6, 5, 2]"
      ]
     },
     "execution_count": 5,
     "metadata": {},
     "output_type": "execute_result"
    }
   ],
   "source": [
    "ratings.reverse()\n",
    "ratings"
   ]
  },
  {
   "cell_type": "code",
   "execution_count": 17,
   "id": "e85b4f25",
   "metadata": {},
   "outputs": [
    {
     "ename": "TypeError",
     "evalue": "Circle() takes no arguments",
     "output_type": "error",
     "traceback": [
      "\u001b[0;31m---------------------------------------------------------------------------\u001b[0m",
      "\u001b[0;31mTypeError\u001b[0m                                 Traceback (most recent call last)",
      "Input \u001b[0;32mIn [17]\u001b[0m, in \u001b[0;36m<cell line: 17>\u001b[0;34m()\u001b[0m\n\u001b[1;32m     13\u001b[0m         \u001b[38;5;28mself\u001b[39m\u001b[38;5;241m.\u001b[39mcolor \u001b[38;5;241m=\u001b[39m color; \n\u001b[1;32m     16\u001b[0m \u001b[38;5;66;03m#redcircle is the name of object, object construct: circle(name of class) and attributes\u001b[39;00m\n\u001b[0;32m---> 17\u001b[0m RedCircle\u001b[38;5;241m=\u001b[39m\u001b[43mCircle\u001b[49m\u001b[43m(\u001b[49m\u001b[38;5;241;43m10\u001b[39;49m\u001b[43m)\u001b[49m\n\u001b[1;32m     18\u001b[0m BlueRectangle\u001b[38;5;241m=\u001b[39mRectangle(\u001b[38;5;241m50\u001b[39m,\u001b[38;5;241m20\u001b[39m,\u001b[38;5;124m\"\u001b[39m\u001b[38;5;124mblue\u001b[39m\u001b[38;5;124m\"\u001b[39m)\n\u001b[1;32m     20\u001b[0m \u001b[38;5;28mprint\u001b[39m(RedCircle\u001b[38;5;241m.\u001b[39mcolor)\n",
      "\u001b[0;31mTypeError\u001b[0m: Circle() takes no arguments"
     ]
    }
   ],
   "source": [
    "#CREATE YOUR OWN CLASS OR TYPE \n",
    "class Circle(object): #define your class\n",
    "    def _init_(self, radius, color): #init is the method \n",
    "        self.radius = radius; #data attributes used to initialize each instance of the class \n",
    "        self.color = color; #self is the parameter that refers to the instance of the class\n",
    "    def addRadius(self,r):\n",
    "        self.radius=self.radius+r\n",
    "\n",
    "class Rectangle(object): #define your class\n",
    "    def _init_(self, color, height, width): #init is the method \n",
    "        self.height=height;\n",
    "        self.width = width; #data attributes used to initialize each instance of the class \n",
    "        self.color = color; \n",
    "        \n",
    "        \n",
    "#redcircle is the name of object, object construct: circle(name of class) and attributes\n",
    "RedCircle=Circle(10,\"red\")\n",
    "BlueRectangle=Rectangle(50,20,\"blue\")\n",
    "\n",
    "print(RedCircle.color)\n",
    "print(BlueRectangle.color)\n",
    "RedCircle.addRadius(100)\n",
    "print(RedCircle.radius)\n"
   ]
  },
  {
   "cell_type": "code",
   "execution_count": 19,
   "id": "693d20d8",
   "metadata": {},
   "outputs": [
    {
     "name": "stdout",
     "output_type": "stream",
     "text": [
      "Hi\n",
      "Mike\n"
     ]
    }
   ],
   "source": [
    "x=1 \n",
    "if (x!=1):\n",
    "    print(\"Hello\")\n",
    "else: \n",
    "    print(\"Hi\")\n",
    "print(\"Mike\")\n",
    "\n"
   ]
  },
  {
   "cell_type": "code",
   "execution_count": 20,
   "id": "56013b00",
   "metadata": {},
   "outputs": [
    {
     "name": "stdout",
     "output_type": "stream",
     "text": [
      "11\n",
      "22\n",
      "33\n"
     ]
    }
   ],
   "source": [
    "A=['1','2','3']\n",
    "for a in A: \n",
    "    print(2*a)"
   ]
  },
  {
   "cell_type": "code",
   "execution_count": 24,
   "id": "914789c1",
   "metadata": {},
   "outputs": [
    {
     "data": {
      "text/plain": [
       "1"
      ]
     },
     "execution_count": 24,
     "metadata": {},
     "output_type": "execute_result"
    }
   ],
   "source": [
    "def Delta(x):\n",
    "    if x==0:\n",
    "        y=1; \n",
    "    else: \n",
    "        y=0;\n",
    "    return(y)\n",
    "\n",
    "x=0\n",
    "Delta(x)"
   ]
  },
  {
   "cell_type": "code",
   "execution_count": null,
   "id": "b7eab21b",
   "metadata": {},
   "outputs": [],
   "source": []
  }
 ],
 "metadata": {
  "kernelspec": {
   "display_name": "Python 3 (ipykernel)",
   "language": "python",
   "name": "python3"
  },
  "language_info": {
   "codemirror_mode": {
    "name": "ipython",
    "version": 3
   },
   "file_extension": ".py",
   "mimetype": "text/x-python",
   "name": "python",
   "nbconvert_exporter": "python",
   "pygments_lexer": "ipython3",
   "version": "3.10.5"
  }
 },
 "nbformat": 4,
 "nbformat_minor": 5
}
