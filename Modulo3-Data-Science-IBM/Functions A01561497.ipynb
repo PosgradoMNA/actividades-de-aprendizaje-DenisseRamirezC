{
 "cells": [
  {
   "cell_type": "code",
   "execution_count": 1,
   "id": "bb48d5dd",
   "metadata": {},
   "outputs": [
    {
     "data": {
      "text/plain": [
       "8"
      ]
     },
     "execution_count": 1,
     "metadata": {},
     "output_type": "execute_result"
    }
   ],
   "source": [
    "#Las funciones solo son una parte de codigo que puedes reutilizar \n",
    "#solo tenemos que llamar a la funcion para que ejecute su codigo \n",
    "#hacer el codigo mas corto \n",
    "#FUNCTION len (toma como input una list, string, etc) y devuelve el tamanio de este)\n",
    "album_ratings = [10.0,8.5,9.5,7.0,7.0,9.5,9.0,9.5]\n",
    "L = len(album_ratings)\n",
    "L"
   ]
  },
  {
   "cell_type": "code",
   "execution_count": 2,
   "id": "a795e95a",
   "metadata": {},
   "outputs": [
    {
     "data": {
      "text/plain": [
       "70.0"
      ]
     },
     "execution_count": 2,
     "metadata": {},
     "output_type": "execute_result"
    }
   ],
   "source": [
    "album_ratings = [10.0,8.5,9.5,7.0,7.0,9.5,9.0,9.5]\n",
    "s = sum(album_ratings)\n",
    "s"
   ]
  },
  {
   "cell_type": "code",
   "execution_count": 3,
   "id": "d5497052",
   "metadata": {},
   "outputs": [
    {
     "data": {
      "text/plain": [
       "[7.0, 7.0, 8.5, 9.0, 9.5, 9.5, 9.5, 10.0]"
      ]
     },
     "execution_count": 3,
     "metadata": {},
     "output_type": "execute_result"
    }
   ],
   "source": [
    "album_ratings = [10.0,8.5,9.5,7.0,7.0,9.5,9.0,9.5]\n",
    "sorted_album = sorted(album_ratings)\n",
    "sorted_album"
   ]
  },
  {
   "cell_type": "code",
   "execution_count": 4,
   "id": "cb5007ca",
   "metadata": {},
   "outputs": [
    {
     "data": {
      "text/plain": [
       "[7.0, 7.0, 8.5, 9.0, 9.5, 9.5, 9.5, 10.0]"
      ]
     },
     "execution_count": 4,
     "metadata": {},
     "output_type": "execute_result"
    }
   ],
   "source": [
    "#La diferencia entre la funcion sorted y el metodo sort, es que en el metodo la lista (input) si cambia y no se genera otra variable como en sorted\n",
    "album_ratings = [10.0,8.5,9.5,7.0,7.0,9.5,9.0,9.5]\n",
    "album_ratings.sort()\n",
    "album_ratings "
   ]
  },
  {
   "cell_type": "code",
   "execution_count": 5,
   "id": "cccb1e74",
   "metadata": {},
   "outputs": [],
   "source": [
    "#MAKING FUNCIONS \n",
    "def add1(a):\n",
    "    b=a+1 \n",
    "    return b"
   ]
  },
  {
   "cell_type": "code",
   "execution_count": 6,
   "id": "8649c1d5",
   "metadata": {},
   "outputs": [
    {
     "data": {
      "text/plain": [
       "6"
      ]
     },
     "execution_count": 6,
     "metadata": {},
     "output_type": "execute_result"
    }
   ],
   "source": [
    "add1(5)"
   ]
  },
  {
   "cell_type": "code",
   "execution_count": 7,
   "id": "f265bdce",
   "metadata": {},
   "outputs": [
    {
     "data": {
      "text/plain": [
       "11"
      ]
     },
     "execution_count": 7,
     "metadata": {},
     "output_type": "execute_result"
    }
   ],
   "source": [
    "c=add1(10)\n",
    "c"
   ]
  },
  {
   "cell_type": "code",
   "execution_count": 8,
   "id": "2210d089",
   "metadata": {},
   "outputs": [
    {
     "data": {
      "text/plain": [
       "6"
      ]
     },
     "execution_count": 8,
     "metadata": {},
     "output_type": "execute_result"
    }
   ],
   "source": [
    "def mult(a,b):\n",
    "    c=a*b\n",
    "    return c\n",
    "\n",
    "mult(2,3)\n"
   ]
  },
  {
   "cell_type": "code",
   "execution_count": 9,
   "id": "2d319464",
   "metadata": {},
   "outputs": [
    {
     "data": {
      "text/plain": [
       "31.400000000000002"
      ]
     },
     "execution_count": 9,
     "metadata": {},
     "output_type": "execute_result"
    }
   ],
   "source": [
    "mult(10,3.14)"
   ]
  },
  {
   "cell_type": "code",
   "execution_count": 10,
   "id": "b05a3f01",
   "metadata": {},
   "outputs": [
    {
     "data": {
      "text/plain": [
       "'DenisseDenisse'"
      ]
     },
     "execution_count": 10,
     "metadata": {},
     "output_type": "execute_result"
    }
   ],
   "source": [
    "mult(2,\"Denisse\")\n"
   ]
  },
  {
   "cell_type": "code",
   "execution_count": 11,
   "id": "3035774f",
   "metadata": {},
   "outputs": [
    {
     "name": "stdout",
     "output_type": "stream",
     "text": [
      "Michael Jackson\n"
     ]
    }
   ],
   "source": [
    "#Algunas veces las funciones no tienen un return\n",
    "def MJ(): #solo imprime cada vez que se le llama, tampoco requiere aqui los parametros\n",
    "    print(\"Michael Jackson\")\n",
    "\n",
    "MJ()"
   ]
  },
  {
   "cell_type": "code",
   "execution_count": 12,
   "id": "18c204ba",
   "metadata": {},
   "outputs": [
    {
     "name": "stdout",
     "output_type": "stream",
     "text": [
      "None\n"
     ]
    }
   ],
   "source": [
    "def NoWork(): #does not do anything but satisfies the requirement of non-empty body \n",
    "    pass \n",
    "print(NoWork())\n"
   ]
  },
  {
   "cell_type": "code",
   "execution_count": 13,
   "id": "951c5f9e",
   "metadata": {},
   "outputs": [],
   "source": [
    "def NoWork(): \n",
    "    pass\n",
    "    return None\n"
   ]
  },
  {
   "cell_type": "code",
   "execution_count": 14,
   "id": "8a27a164",
   "metadata": {},
   "outputs": [
    {
     "name": "stdout",
     "output_type": "stream",
     "text": [
      "2 plus 1 equals 3\n"
     ]
    },
    {
     "data": {
      "text/plain": [
       "3"
      ]
     },
     "execution_count": 14,
     "metadata": {},
     "output_type": "execute_result"
    }
   ],
   "source": [
    "#funciones pueden realizar mas de una tarea \n",
    "def add(a):\n",
    "    b=a+1;\n",
    "    print(a,\"plus 1 equals\",b)\n",
    "    return b\n",
    "\n",
    "add(2)"
   ]
  },
  {
   "cell_type": "code",
   "execution_count": 15,
   "id": "50f35b25",
   "metadata": {},
   "outputs": [
    {
     "name": "stdout",
     "output_type": "stream",
     "text": [
      "Album 0 Rating is 10.0\n",
      "Album 1 Rating is 8.5\n",
      "Album 2 Rating is 9.5\n"
     ]
    }
   ],
   "source": [
    "def printStuff(Stuff):\n",
    "    for i,s in enumerate(Stuff):\n",
    "        print(\"Album\",i,\"Rating is\", s)\n",
    "        \n",
    "album_ratings =[10.0,8.5,9.5]\n",
    "printStuff(album_ratings)"
   ]
  },
  {
   "cell_type": "code",
   "execution_count": 16,
   "id": "567d070e",
   "metadata": {},
   "outputs": [
    {
     "name": "stdout",
     "output_type": "stream",
     "text": [
      "Michael Jackson\n",
      "ACDC\n",
      "Pink Floyd\n"
     ]
    }
   ],
   "source": [
    "#collecting arguments \n",
    "def artist(*names):\n",
    "    for name in names: \n",
    "        print(name)\n",
    "\n",
    "artist(\"Michael Jackson\",\"ACDC\",\"Pink Floyd\")"
   ]
  },
  {
   "cell_type": "code",
   "execution_count": 17,
   "id": "859f5888",
   "metadata": {},
   "outputs": [
    {
     "name": "stdout",
     "output_type": "stream",
     "text": [
      "1982\n",
      "2017\n"
     ]
    }
   ],
   "source": [
    "#Scope of a variable: el lugar donde la variable esta disponible, puede ser global o solo para una funcion \n",
    "def Thriller():\n",
    "    Date=1982 #variable local\n",
    "    return(Date)\n",
    "\n",
    "Date = 2017 #variable global\n",
    "print(Thriller())\n",
    "print(Date)"
   ]
  },
  {
   "cell_type": "code",
   "execution_count": 19,
   "id": "763b376a",
   "metadata": {},
   "outputs": [
    {
     "name": "stdout",
     "output_type": "stream",
     "text": [
      "9\n",
      "9\n"
     ]
    }
   ],
   "source": [
    "def ACDC(y):\n",
    "    print(rating)\n",
    "    return(rating*y)\n",
    "\n",
    "rating = 9 \n",
    "z = ACDC(1)\n",
    "print(rating)"
   ]
  },
  {
   "cell_type": "code",
   "execution_count": 20,
   "id": "df961370",
   "metadata": {},
   "outputs": [
    {
     "name": "stdout",
     "output_type": "stream",
     "text": [
      "45 million\n"
     ]
    }
   ],
   "source": [
    "def PF():\n",
    "    global ClaimedSales\n",
    "    ClaimedSales=\"45 million\"\n",
    "    return ClaimedSales\n",
    "\n",
    "PF()\n",
    "print(ClaimedSales)"
   ]
  },
  {
   "cell_type": "code",
   "execution_count": 21,
   "id": "9c985b0a",
   "metadata": {},
   "outputs": [
    {
     "data": {
      "text/plain": [
       "11"
      ]
     },
     "execution_count": 21,
     "metadata": {},
     "output_type": "execute_result"
    }
   ],
   "source": [
    "a = 1 \n",
    "def add(b):\n",
    "    return a+b\n",
    "c = add(10)\n",
    "c"
   ]
  },
  {
   "cell_type": "code",
   "execution_count": null,
   "id": "7a026788",
   "metadata": {},
   "outputs": [],
   "source": []
  }
 ],
 "metadata": {
  "kernelspec": {
   "display_name": "Python 3 (ipykernel)",
   "language": "python",
   "name": "python3"
  },
  "language_info": {
   "codemirror_mode": {
    "name": "ipython",
    "version": 3
   },
   "file_extension": ".py",
   "mimetype": "text/x-python",
   "name": "python",
   "nbconvert_exporter": "python",
   "pygments_lexer": "ipython3",
   "version": "3.10.5"
  }
 },
 "nbformat": 4,
 "nbformat_minor": 5
}
