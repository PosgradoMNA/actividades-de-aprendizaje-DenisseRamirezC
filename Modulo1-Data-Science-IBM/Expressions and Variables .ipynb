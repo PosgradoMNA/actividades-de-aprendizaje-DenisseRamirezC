DENISSE MARIA RAMIREZ COLMENERO - A01561497 
{
 "cells": [
  {
   "cell_type": "code",
   "execution_count": 3,
   "id": "a6585ed6",
   "metadata": {},
   "outputs": [
    {
     "data": {
      "text/plain": [
       "25"
      ]
     },
     "execution_count": 3,
     "metadata": {},
     "output_type": "execute_result"
    }
   ],
   "source": [
    "#Expressions: operaciones que realiza python, como aritmeticas \n",
    "#Operands: los numeros \n",
    "#Operators: los simbolos matematicos \n",
    "43+60+16+41 "
   ]
  },
  {
   "cell_type": "code",
   "execution_count": 4,
   "id": "b18d1d4e",
   "metadata": {},
   "outputs": [
    {
     "data": {
      "text/plain": [
       "-10"
      ]
     },
     "execution_count": 4,
     "metadata": {},
     "output_type": "execute_result"
    }
   ],
   "source": [
    "50 - 60 "
   ]
  },
  {
   "cell_type": "code",
   "execution_count": 5,
   "id": "03129201",
   "metadata": {},
   "outputs": [
    {
     "data": {
      "text/plain": [
       "25"
      ]
     },
     "execution_count": 5,
     "metadata": {},
     "output_type": "execute_result"
    }
   ],
   "source": [
    "5*5 "
   ]
  },
  {
   "cell_type": "code",
   "execution_count": 6,
   "id": "dd626838",
   "metadata": {},
   "outputs": [
    {
     "data": {
      "text/plain": [
       "4.166666666666667"
      ]
     },
     "execution_count": 6,
     "metadata": {},
     "output_type": "execute_result"
    }
   ],
   "source": [
    "25 / 6"
   ]
  },
  {
   "cell_type": "code",
   "execution_count": 7,
   "id": "58382c54",
   "metadata": {},
   "outputs": [
    {
     "data": {
      "text/plain": [
       "4"
      ]
     },
     "execution_count": 7,
     "metadata": {},
     "output_type": "execute_result"
    }
   ],
   "source": [
    "25 // 6 \n",
    "#solo el entero "
   ]
  },
  {
   "cell_type": "code",
   "execution_count": 8,
   "id": "f2dfbe73",
   "metadata": {},
   "outputs": [
    {
     "data": {
      "text/plain": [
       "150"
      ]
     },
     "execution_count": 8,
     "metadata": {},
     "output_type": "execute_result"
    }
   ],
   "source": [
    "2*60+30 \n",
    "#primero se efectua la multiplicacion y division, despues la suma y resta"
   ]
  },
  {
   "cell_type": "code",
   "execution_count": 10,
   "id": "76d0fb47",
   "metadata": {},
   "outputs": [
    {
     "data": {
      "text/plain": [
       "2.2"
      ]
     },
     "execution_count": 10,
     "metadata": {},
     "output_type": "execute_result"
    }
   ],
   "source": [
    "2*(5+6)/10 \n",
    "#primero todo lo que esta en el parentesis, asi sean sumas y restas "
   ]
  },
  {
   "cell_type": "code",
   "execution_count": 12,
   "id": "51e88697",
   "metadata": {},
   "outputs": [
    {
     "name": "stdout",
     "output_type": "stream",
     "text": [
      "10\n",
      "160\n",
      "2.6666666666666665\n"
     ]
    }
   ],
   "source": [
    "#Varibles: para almacenar los datos \n",
    "my_variable = 10 \n",
    "x= 43 + 60 + 16 + 41 \n",
    "y = x/60\n",
    "print(my_variable)\n",
    "print(x)\n",
    "print(y)"
   ]
  },
  {
   "cell_type": "code",
   "execution_count": 23,
   "id": "84800c34",
   "metadata": {},
   "outputs": [
    {
     "name": "stdout",
     "output_type": "stream",
     "text": [
      "2.6666666666666665\n"
     ]
    }
   ],
   "source": [
    "x = 160\n",
    "x = x/60 \n",
    "print(x)\n",
    "#el valor de las variables pueden cambiar, y se imprimira el resultado de la ultima linea de codigo"
   ]
  },
  {
   "cell_type": "code",
   "execution_count": 24,
   "id": "7e46fb21",
   "metadata": {},
   "outputs": [
    {
     "name": "stdout",
     "output_type": "stream",
     "text": [
      "1.4166666666666667\n"
     ]
    }
   ],
   "source": [
    "total_min = 43 + 42\n",
    "total_hr= total_min/60 \n",
    "print(total_hr)"
   ]
  },
  {
   "cell_type": "code",
   "execution_count": null,
   "id": "33f7ef96",
   "metadata": {},
   "outputs": [],
   "source": []
  }
 ],
 "metadata": {
  "kernelspec": {
   "display_name": "Python 3 (ipykernel)",
   "language": "python",
   "name": "python3"
  },
  "language_info": {
   "codemirror_mode": {
    "name": "ipython",
    "version": 3
   },
   "file_extension": ".py",
   "mimetype": "text/x-python",
   "name": "python",
   "nbconvert_exporter": "python",
   "pygments_lexer": "ipython3",
   "version": "3.10.5"
  }
 },
 "nbformat": 4,
 "nbformat_minor": 5
}
