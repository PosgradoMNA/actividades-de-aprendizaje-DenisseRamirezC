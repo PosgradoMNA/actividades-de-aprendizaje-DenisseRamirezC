{
  "nbformat": 4,
  "nbformat_minor": 0,
  "metadata": {
    "colab": {
      "provenance": [],
      "collapsed_sections": [],
      "toc_visible": true
    },
    "kernelspec": {
      "name": "python3",
      "display_name": "Python 3"
    },
    "language_info": {
      "name": "python"
    }
  },
  "cells": [
    {
      "cell_type": "markdown",
      "source": [
        "##ACTIVIDAD SEMANAL 7 -- REGRESIONES Y K MEANS\n",
        "##NOTEBOOK 1 - REGRESIÓN SIMPLE\n",
        "\n",
        "###Denisse María Ramírez Colmenero \n",
        "\n",
        "###A01561497\n",
        "\n",
        "\n",
        "\n",
        "Materia: Ciencia y Analítica de Datos \n",
        "\n",
        "Profesora titular: Doc. María de la Paz Rico Fernández\n",
        "\n",
        "Profesor tutor: Orlando Figón Cruz \n",
        "\n",
        "Fecha de entrega: 09 de Noviembre de 2022 \n",
        "\n",
        "-------------------------------------------------------------------------------------------------------------------"
      ],
      "metadata": {
        "id": "bozvj-AURbhX"
      }
    },
    {
      "cell_type": "code",
      "source": [
        "import numpy as np\n",
        "%matplotlib inline\n",
        "import matplotlib\n",
        "import matplotlib.pyplot as plt\n",
        "import pandas as pd\n",
        "import random\n",
        "import seaborn as sns\n",
        "np.random.seed(42)\n",
        "from sklearn.model_selection import train_test_split\n",
        "from sklearn import linear_model\n",
        "from sklearn.metrics import mean_squared_error, r2_score\n",
        "from sklearn import metrics\n",
        "from sklearn.linear_model import LinearRegression\n",
        "from sklearn.preprocessing import PolynomialFeatures\n",
        "from sklearn.linear_model import Ridge, Lasso\n",
        "from sklearn.pipeline import Pipeline\n",
        "from sklearn.compose import ColumnTransformer\n",
        "from sklearn.impute import SimpleImputer\n",
        "from sklearn.preprocessing import MinMaxScaler, OneHotEncoder, StandardScaler"
      ],
      "metadata": {
        "id": "E1nUKkuxUN5F"
      },
      "execution_count": 2,
      "outputs": []
    },
    {
      "cell_type": "markdown",
      "source": [
        "##Ejercicio 1. Costo en la industria de manufactura. Ahora realizaremos los ejercicios de regresión utilizando una parte para entrenar y otra para evaluar."
      ],
      "metadata": {
        "id": "B43WSz-fTsJQ"
      }
    },
    {
      "cell_type": "code",
      "source": [
        "url = '/content/EconomiesOfScale.csv'\n",
        "data = pd.read_csv(url)\n",
        "print(data.shape)\n",
        "data.head() #1000 muestras"
      ],
      "metadata": {
        "colab": {
          "base_uri": "https://localhost:8080/",
          "height": 221
        },
        "id": "Oz0Lsh82VCSP",
        "outputId": "2149272d-23ee-4286-d848-89ac861d3298"
      },
      "execution_count": 3,
      "outputs": [
        {
          "output_type": "stream",
          "name": "stdout",
          "text": [
            "(1000, 2)\n"
          ]
        },
        {
          "output_type": "execute_result",
          "data": {
            "text/plain": [
              "   Number of Units  Manufacturing Cost\n",
              "0         1.000000           95.066056\n",
              "1         1.185994           96.531750\n",
              "2         1.191499           73.661311\n",
              "3         1.204771           95.566843\n",
              "4         1.298773           98.777013"
            ],
            "text/html": [
              "\n",
              "  <div id=\"df-18b55704-775b-44b9-b6d2-d56a1f1b8b27\">\n",
              "    <div class=\"colab-df-container\">\n",
              "      <div>\n",
              "<style scoped>\n",
              "    .dataframe tbody tr th:only-of-type {\n",
              "        vertical-align: middle;\n",
              "    }\n",
              "\n",
              "    .dataframe tbody tr th {\n",
              "        vertical-align: top;\n",
              "    }\n",
              "\n",
              "    .dataframe thead th {\n",
              "        text-align: right;\n",
              "    }\n",
              "</style>\n",
              "<table border=\"1\" class=\"dataframe\">\n",
              "  <thead>\n",
              "    <tr style=\"text-align: right;\">\n",
              "      <th></th>\n",
              "      <th>Number of Units</th>\n",
              "      <th>Manufacturing Cost</th>\n",
              "    </tr>\n",
              "  </thead>\n",
              "  <tbody>\n",
              "    <tr>\n",
              "      <th>0</th>\n",
              "      <td>1.000000</td>\n",
              "      <td>95.066056</td>\n",
              "    </tr>\n",
              "    <tr>\n",
              "      <th>1</th>\n",
              "      <td>1.185994</td>\n",
              "      <td>96.531750</td>\n",
              "    </tr>\n",
              "    <tr>\n",
              "      <th>2</th>\n",
              "      <td>1.191499</td>\n",
              "      <td>73.661311</td>\n",
              "    </tr>\n",
              "    <tr>\n",
              "      <th>3</th>\n",
              "      <td>1.204771</td>\n",
              "      <td>95.566843</td>\n",
              "    </tr>\n",
              "    <tr>\n",
              "      <th>4</th>\n",
              "      <td>1.298773</td>\n",
              "      <td>98.777013</td>\n",
              "    </tr>\n",
              "  </tbody>\n",
              "</table>\n",
              "</div>\n",
              "      <button class=\"colab-df-convert\" onclick=\"convertToInteractive('df-18b55704-775b-44b9-b6d2-d56a1f1b8b27')\"\n",
              "              title=\"Convert this dataframe to an interactive table.\"\n",
              "              style=\"display:none;\">\n",
              "        \n",
              "  <svg xmlns=\"http://www.w3.org/2000/svg\" height=\"24px\"viewBox=\"0 0 24 24\"\n",
              "       width=\"24px\">\n",
              "    <path d=\"M0 0h24v24H0V0z\" fill=\"none\"/>\n",
              "    <path d=\"M18.56 5.44l.94 2.06.94-2.06 2.06-.94-2.06-.94-.94-2.06-.94 2.06-2.06.94zm-11 1L8.5 8.5l.94-2.06 2.06-.94-2.06-.94L8.5 2.5l-.94 2.06-2.06.94zm10 10l.94 2.06.94-2.06 2.06-.94-2.06-.94-.94-2.06-.94 2.06-2.06.94z\"/><path d=\"M17.41 7.96l-1.37-1.37c-.4-.4-.92-.59-1.43-.59-.52 0-1.04.2-1.43.59L10.3 9.45l-7.72 7.72c-.78.78-.78 2.05 0 2.83L4 21.41c.39.39.9.59 1.41.59.51 0 1.02-.2 1.41-.59l7.78-7.78 2.81-2.81c.8-.78.8-2.07 0-2.86zM5.41 20L4 18.59l7.72-7.72 1.47 1.35L5.41 20z\"/>\n",
              "  </svg>\n",
              "      </button>\n",
              "      \n",
              "  <style>\n",
              "    .colab-df-container {\n",
              "      display:flex;\n",
              "      flex-wrap:wrap;\n",
              "      gap: 12px;\n",
              "    }\n",
              "\n",
              "    .colab-df-convert {\n",
              "      background-color: #E8F0FE;\n",
              "      border: none;\n",
              "      border-radius: 50%;\n",
              "      cursor: pointer;\n",
              "      display: none;\n",
              "      fill: #1967D2;\n",
              "      height: 32px;\n",
              "      padding: 0 0 0 0;\n",
              "      width: 32px;\n",
              "    }\n",
              "\n",
              "    .colab-df-convert:hover {\n",
              "      background-color: #E2EBFA;\n",
              "      box-shadow: 0px 1px 2px rgba(60, 64, 67, 0.3), 0px 1px 3px 1px rgba(60, 64, 67, 0.15);\n",
              "      fill: #174EA6;\n",
              "    }\n",
              "\n",
              "    [theme=dark] .colab-df-convert {\n",
              "      background-color: #3B4455;\n",
              "      fill: #D2E3FC;\n",
              "    }\n",
              "\n",
              "    [theme=dark] .colab-df-convert:hover {\n",
              "      background-color: #434B5C;\n",
              "      box-shadow: 0px 1px 3px 1px rgba(0, 0, 0, 0.15);\n",
              "      filter: drop-shadow(0px 1px 2px rgba(0, 0, 0, 0.3));\n",
              "      fill: #FFFFFF;\n",
              "    }\n",
              "  </style>\n",
              "\n",
              "      <script>\n",
              "        const buttonEl =\n",
              "          document.querySelector('#df-18b55704-775b-44b9-b6d2-d56a1f1b8b27 button.colab-df-convert');\n",
              "        buttonEl.style.display =\n",
              "          google.colab.kernel.accessAllowed ? 'block' : 'none';\n",
              "\n",
              "        async function convertToInteractive(key) {\n",
              "          const element = document.querySelector('#df-18b55704-775b-44b9-b6d2-d56a1f1b8b27');\n",
              "          const dataTable =\n",
              "            await google.colab.kernel.invokeFunction('convertToInteractive',\n",
              "                                                     [key], {});\n",
              "          if (!dataTable) return;\n",
              "\n",
              "          const docLinkHtml = 'Like what you see? Visit the ' +\n",
              "            '<a target=\"_blank\" href=https://colab.research.google.com/notebooks/data_table.ipynb>data table notebook</a>'\n",
              "            + ' to learn more about interactive tables.';\n",
              "          element.innerHTML = '';\n",
              "          dataTable['output_type'] = 'display_data';\n",
              "          await google.colab.output.renderOutput(dataTable, element);\n",
              "          const docLink = document.createElement('div');\n",
              "          docLink.innerHTML = docLinkHtml;\n",
              "          element.appendChild(docLink);\n",
              "        }\n",
              "      </script>\n",
              "    </div>\n",
              "  </div>\n",
              "  "
            ]
          },
          "metadata": {},
          "execution_count": 3
        }
      ]
    },
    {
      "cell_type": "code",
      "execution_count": 4,
      "metadata": {
        "id": "vOw21lnwRJgF"
      },
      "outputs": [],
      "source": [
        "X = data[['Number of Units']] #Variable de entrada\n",
        "y = data['Manufacturing Cost']#variable de salida "
      ]
    },
    {
      "cell_type": "code",
      "source": [
        "len(X)"
      ],
      "metadata": {
        "colab": {
          "base_uri": "https://localhost:8080/"
        },
        "id": "p90P_CxYYskQ",
        "outputId": "6dd90f00-d5ce-4e26-99bf-9e76f58f24b1"
      },
      "execution_count": 5,
      "outputs": [
        {
          "output_type": "execute_result",
          "data": {
            "text/plain": [
              "1000"
            ]
          },
          "metadata": {},
          "execution_count": 5
        }
      ]
    },
    {
      "cell_type": "code",
      "source": [
        "y.head()"
      ],
      "metadata": {
        "colab": {
          "base_uri": "https://localhost:8080/"
        },
        "id": "CeAXH4cOY_G5",
        "outputId": "a703f3d9-3726-4bd6-f601-618a8eacb709"
      },
      "execution_count": 6,
      "outputs": [
        {
          "output_type": "execute_result",
          "data": {
            "text/plain": [
              "0    95.066056\n",
              "1    96.531750\n",
              "2    73.661311\n",
              "3    95.566843\n",
              "4    98.777013\n",
              "Name: Manufacturing Cost, dtype: float64"
            ]
          },
          "metadata": {},
          "execution_count": 6
        }
      ]
    },
    {
      "cell_type": "markdown",
      "source": [
        "###1. Divide los datos del costo de manufactura. Utiliza la función train_test_split "
      ],
      "metadata": {
        "id": "vyKFaVA7UFCe"
      }
    },
    {
      "cell_type": "code",
      "source": [
        "X_train, X_test, y_train, y_test = train_test_split(X, y, test_size=0.15, random_state=101)"
      ],
      "metadata": {
        "id": "LKv-03avZTHq"
      },
      "execution_count": 7,
      "outputs": []
    },
    {
      "cell_type": "code",
      "source": [
        "X_train.shape"
      ],
      "metadata": {
        "colab": {
          "base_uri": "https://localhost:8080/"
        },
        "id": "J48OKwPgc9EW",
        "outputId": "c8838106-bdaa-4a7f-97fb-e70db759e480"
      },
      "execution_count": 8,
      "outputs": [
        {
          "output_type": "execute_result",
          "data": {
            "text/plain": [
              "(850, 1)"
            ]
          },
          "metadata": {},
          "execution_count": 8
        }
      ]
    },
    {
      "cell_type": "markdown",
      "source": [
        "###2. Realiza la regresión lineal: modelo generado (ecuación), su visualización, sus errores y r cuadrada."
      ],
      "metadata": {
        "id": "_oUhVh23c5n2"
      }
    },
    {
      "cell_type": "code",
      "source": [
        "#creamos el objeto de Regresión lineal\n",
        "regresion_lineal = linear_model.LinearRegression()\n",
        "regresion_lineal.fit(X_train,y_train) #entrenamos el modelo \n",
        "\n",
        "y_pred_test = regresion_lineal.predict(X_test)\n",
        "print(\"De nuestra ecuación y = mx + b\")\n",
        "print(\"La pendiente 'm' es el coeficiente:\", regresion_lineal.coef_)\n",
        "print(\"El término independiente 'b' es:\", regresion_lineal.intercept_)\n",
        "\n",
        "m = regresion_lineal.coef_\n",
        "b = regresion_lineal.intercept_\n",
        "print(\"La ecuación del modelo generado es: y =\", m,\"x +\", b) "
      ],
      "metadata": {
        "colab": {
          "base_uri": "https://localhost:8080/"
        },
        "id": "SlI-UBwdc8Kj",
        "outputId": "576990ac-0371-4f2c-a4ff-90f7c144ed78"
      },
      "execution_count": 9,
      "outputs": [
        {
          "output_type": "stream",
          "name": "stdout",
          "text": [
            "De nuestra ecuación y = mx + b\n",
            "La pendiente 'm' es el coeficiente: [-5.91602323]\n",
            "El término independiente 'b' es: 66.44764675174278\n",
            "La ecuación del modelo generado es: y = [-5.91602323] x + 66.44764675174278\n"
          ]
        }
      ]
    },
    {
      "cell_type": "code",
      "source": [
        "print(\"RESULTADOS PARA EL CONJUNTO DE PRUEBA\")\n",
        "print('Error medio Absoluto (MAE) del modelo:', metrics.mean_absolute_error(y_test, y_pred_test))\n",
        "print('Raíz del Error Cuadrático Medio (RMSE):', np.sqrt(metrics.mean_squared_error(y_test, y_pred_test)))\n",
        "print('R-cuadrada del modelo:', r2_score(y_test, y_pred_test))\n",
        "print('Varianza: %.2f' % r2_score(y_test, y_pred_test))"
      ],
      "metadata": {
        "colab": {
          "base_uri": "https://localhost:8080/"
        },
        "id": "r_-_jaVlgSiv",
        "outputId": "cd766f81-af43-4220-ff18-e54e7a645809"
      },
      "execution_count": 10,
      "outputs": [
        {
          "output_type": "stream",
          "name": "stdout",
          "text": [
            "RESULTADOS PARA EL CONJUNTO DE PRUEBA\n",
            "Error medio Absoluto (MAE) del modelo: 5.011595088997378\n",
            "Raíz del Error Cuadrático Medio (RMSE): 7.2416891490838875\n",
            "R-cuadrada del modelo: 0.6171440942171167\n",
            "Varianza: 0.62\n"
          ]
        }
      ]
    },
    {
      "cell_type": "code",
      "source": [
        "plt.scatter(X_test, y_test, color = 'red')\n",
        "plt.plot(X_test, y_pred_test, color = 'blue')\n",
        "plt.title('Number of Units vs Manufacturing Cost (Conjunto de Prueba)')\n",
        "plt.xlabel('Number of Units')\n",
        "plt.ylabel('Manufacturing Cost')\n",
        "plt.show()"
      ],
      "metadata": {
        "colab": {
          "base_uri": "https://localhost:8080/",
          "height": 295
        },
        "id": "98f6fD0bmgI_",
        "outputId": "20093101-34d0-4e30-dff3-b3e2f531140c"
      },
      "execution_count": 11,
      "outputs": [
        {
          "output_type": "display_data",
          "data": {
            "text/plain": [
              "<Figure size 432x288 with 1 Axes>"
            ],
            "image/png": "[encoded data removed]"
          },
          "metadata": {
            "needs_background": "light"
          }
        }
      ]
    },
    {
      "cell_type": "markdown",
      "source": [
        "###3. Realiza la  regresión polinomial completa, tu modelo generado (ecuación), su visualización, sus errores y r cuadrada."
      ],
      "metadata": {
        "id": "dqvTgmNDpZsk"
      }
    },
    {
      "cell_type": "code",
      "source": [
        "poly_features = PolynomialFeatures(degree=2, include_bias=False)\n",
        "X_poly = poly_features.fit_transform(X_train)\n",
        "\n",
        "lin_reg = LinearRegression(fit_intercept=True)\n",
        "lin_reg.fit(X_poly, y_train)\n",
        "\n",
        "X_test_poli = poly_features.fit_transform(X_test)\n",
        "\n",
        "#realizamos las predicciones\n",
        "y_pred_pt = lin_reg.predict(X_test_poli)\n",
        "\n",
        "\n",
        "print(\"De nuestra ecuación y = a1x1 + a2x1^2 + b\")\n",
        "print(\"La pendiente a1 + a2' es el coeficiente:\", lin_reg.coef_)\n",
        "print(\"El término independiente 'b' es:\", lin_reg.intercept_)\n",
        "\n",
        "a1 = lin_reg.coef_[0]\n",
        "a2 = lin_reg.coef_[1]\n",
        "b = lin_reg.intercept_\n",
        "print(\"La ecuación del modelo generado es: y =\", a1,\"x1 +\", a2,\"x1^2 +\", b) "
      ],
      "metadata": {
        "colab": {
          "base_uri": "https://localhost:8080/"
        },
        "id": "wiyC6EQnGKXm",
        "outputId": "69a34bea-3137-4728-90d6-498bad2f9b2f"
      },
      "execution_count": 12,
      "outputs": [
        {
          "output_type": "stream",
          "name": "stdout",
          "text": [
            "De nuestra ecuación y = a1x1 + a2x1^2 + b\n",
            "La pendiente a1 + a2' es el coeficiente: [-16.27563255   1.12121998]\n",
            "El término independiente 'b' es: 88.38865903399889\n",
            "La ecuación del modelo generado es: y = -16.275632553852986 x1 + 1.1212199764148691 x1^2 + 88.38865903399889\n"
          ]
        }
      ]
    },
    {
      "cell_type": "code",
      "source": [
        "orden = np.argsort(X_test.values.ravel())\n",
        "sortedXp = X_test.values.ravel()[orden]\n",
        "sortedYp = y_test.values.ravel()[orden]\n",
        "sorted_predictpoli=y_pred_pt[orden]"
      ],
      "metadata": {
        "id": "VL5G_tO_GWSz"
      },
      "execution_count": 14,
      "outputs": []
    },
    {
      "cell_type": "code",
      "source": [
        "print(\"RESULTADOS PARA EL CONJUNTO DE PRUEBA\")\n",
        "print('Error medio Absoluto (MAE) del modelo:', metrics.mean_absolute_error(y_test, y_pred_pt))\n",
        "print('Raíz del Error Cuadrático Medio (RMSE):', np.sqrt(metrics.mean_squared_error(y_test, y_pred_pt)))\n",
        "print('R-cuadrada del modelo:', r2_score(y_test, y_pred_pt))"
      ],
      "metadata": {
        "colab": {
          "base_uri": "https://localhost:8080/"
        },
        "id": "bgvWGBvn952a",
        "outputId": "aa0b3c74-2734-4d02-e01f-01ce19a0a958"
      },
      "execution_count": 13,
      "outputs": [
        {
          "output_type": "stream",
          "name": "stdout",
          "text": [
            "RESULTADOS PARA EL CONJUNTO DE PRUEBA\n",
            "Error medio Absoluto (MAE) del modelo: 4.459445302443204\n",
            "Raíz del Error Cuadrático Medio (RMSE): 6.081945518433532\n",
            "R-cuadrada del modelo: 0.7299521995869951\n"
          ]
        }
      ]
    },
    {
      "cell_type": "code",
      "source": [
        "plt.scatter(X, y, color = 'red')\n",
        "plt.plot(sortedXp, sorted_predictpoli, color = 'blue')\n",
        "plt.title('Number of Units vs Manufacturing Cost (Conjunto de entrenamiento)')\n",
        "plt.xlabel('Number of Units')\n",
        "plt.ylabel('Manufacturing Cost')\n",
        "plt.show()"
      ],
      "metadata": {
        "colab": {
          "base_uri": "https://localhost:8080/",
          "height": 295
        },
        "id": "SbW-QZhuCoII",
        "outputId": "1f8b85f1-5a8d-41f8-90bc-a6d944397835"
      },
      "execution_count": 15,
      "outputs": [
        {
          "output_type": "display_data",
          "data": {
            "text/plain": [
              "<Figure size 432x288 with 1 Axes>"
            ],
            "image/png": "[encoded data removed]"
          },
          "metadata": {
            "needs_background": "light"
          }
        }
      ]
    },
    {
      "cell_type": "markdown",
      "source": [
        "###4. Realiza la regresión con Ridge y Lasso. Incluye la ecuación de tu modelo, visualización , errores y r cuadrada."
      ],
      "metadata": {
        "id": "YrjwHKfjC4B1"
      }
    },
    {
      "cell_type": "markdown",
      "source": [
        "LASSO"
      ],
      "metadata": {
        "id": "-FhB0BhSnxw2"
      }
    },
    {
      "cell_type": "code",
      "source": [
        "model_lasso = Pipeline([('polinomial', PolynomialFeatures(degree=2, include_bias=False)),\n",
        "                        ('scaler', StandardScaler()), \n",
        "                        ('lasso', Lasso(alpha=0.01, random_state=42))])"
      ],
      "metadata": {
        "id": "Ec6FiCBnmfI2"
      },
      "execution_count": 35,
      "outputs": []
    },
    {
      "cell_type": "code",
      "source": [
        "model_lasso.fit(X_train, y_train)\n",
        "#X_new_lasso=np.linspace(0, 9, 150).reshape(150, 1)\n",
        "\n",
        "y_pred_L = model_lasso.predict(X_test)"
      ],
      "metadata": {
        "id": "gc2B9-9zsyt0"
      },
      "execution_count": 36,
      "outputs": []
    },
    {
      "cell_type": "code",
      "source": [
        "orden = np.argsort(X_test.values.ravel())\n",
        "sortedXp = X_test.values.ravel()[orden]\n",
        "sortedYp = y_test.values.ravel()[orden]\n",
        "sorted_lasso=y_pred_pt[orden]"
      ],
      "metadata": {
        "id": "YiVGDT6yGzPK"
      },
      "execution_count": 37,
      "outputs": []
    },
    {
      "cell_type": "code",
      "source": [
        "plt.figure(figsize=(9, 5))\n",
        "plt.plot(X,y,'b.')\n",
        "plt.plot(sortedXp,sorted_lasso, 'g-', label=\"Predictions Lasso Regularization\")\n",
        "plt.xlabel(\"$X$\", fontsize=18)\n",
        "plt.ylabel(\"$Y$\", rotation=0, fontsize=18)\n",
        "plt.legend(loc='upper right', fontsize=10);"
      ],
      "metadata": {
        "colab": {
          "base_uri": "https://localhost:8080/",
          "height": 344
        },
        "id": "8xxKEJHNm4uM",
        "outputId": "b855ba04-259c-4b6d-8fc6-5bd49746c499"
      },
      "execution_count": 38,
      "outputs": [
        {
          "output_type": "display_data",
          "data": {
            "text/plain": [
              "<Figure size 648x360 with 1 Axes>"
            ],
            "image/png": "[encoded data removed]"
          },
          "metadata": {}
        }
      ]
    },
    {
      "cell_type": "code",
      "source": [
        "lasso = Lasso(alpha=0.01, random_state=42)\n",
        "lasso.fit(X_train, y_train)\n",
        "print('Coeficiente del modelo Ridge es:',lasso.coef_)\n",
        "print('Intercepción del modelo Ridge es:',lasso.intercept_)"
      ],
      "metadata": {
        "colab": {
          "base_uri": "https://localhost:8080/"
        },
        "id": "UdeTPbNETiht",
        "outputId": "379d6785-8d9f-4be5-df26-282dfe4acd9d"
      },
      "execution_count": 39,
      "outputs": [
        {
          "output_type": "stream",
          "name": "stdout",
          "text": [
            "Coeficiente del modelo Ridge es: [-5.91032056]\n",
            "Intercepción del modelo Ridge es: 66.42210914474295\n"
          ]
        }
      ]
    },
    {
      "cell_type": "code",
      "source": [
        "print('Error medio Absoluto (MAE) del modelo:', metrics.mean_absolute_error(y_test, y_pred_L))\n",
        "print('Raíz del Error Cuadrático Medio (RMSE):', np.sqrt(metrics.mean_squared_error(y_test, y_pred_L)))\n",
        "print('R-cuadrada del modelo:', r2_score(y_test, y_pred_L))"
      ],
      "metadata": {
        "colab": {
          "base_uri": "https://localhost:8080/"
        },
        "id": "MIbzy9pPKM3i",
        "outputId": "03c317e2-eec0-4781-e0e3-b422603be6b2"
      },
      "execution_count": 41,
      "outputs": [
        {
          "output_type": "stream",
          "name": "stdout",
          "text": [
            "Error medio Absoluto (MAE) del modelo: 4.4549982549923985\n",
            "Raíz del Error Cuadrático Medio (RMSE): 6.098705532928617\n",
            "R-cuadrada del modelo: 0.7284618076752039\n"
          ]
        }
      ]
    },
    {
      "cell_type": "markdown",
      "source": [
        "RIDGE"
      ],
      "metadata": {
        "id": "wB0arN4pnzzw"
      }
    },
    {
      "cell_type": "code",
      "source": [
        "model_ridge = Pipeline([('polinomial', PolynomialFeatures(degree=15, include_bias=False)),\n",
        "                        ('scaler', StandardScaler()), \n",
        "                        ('ridge', Ridge(alpha=10, random_state=42))])"
      ],
      "metadata": {
        "id": "pTPJ6RnJC2aX"
      },
      "execution_count": 25,
      "outputs": []
    },
    {
      "cell_type": "code",
      "source": [
        "model_ridge.fit(X_train, y_train)\n",
        "#X_new_ridge=np.linspace(0, 9, 150).reshape(150, 1)\n",
        "y_pred_R = model_ridge.predict(X_test)"
      ],
      "metadata": {
        "id": "QcOZkCHDlltA"
      },
      "execution_count": 26,
      "outputs": []
    },
    {
      "cell_type": "code",
      "source": [
        "orden = np.argsort(X_test.values.ravel())\n",
        "sortedXp = X_test.values.ravel()[orden]\n",
        "sortedYp = y_test.values.ravel()[orden]\n",
        "sorted_ridge=y_pred_R[orden]"
      ],
      "metadata": {
        "id": "erurn_bYIJEx"
      },
      "execution_count": 27,
      "outputs": []
    },
    {
      "cell_type": "code",
      "source": [
        "plt.plot(X,y,'b.')\n",
        "plt.plot(sortedXp,sorted_ridge,'g-', label=\"Predictions Ridge Regularization\")\n",
        "plt.xlabel(\"$X$\", fontsize=18)\n",
        "plt.ylabel(\"$Y$\", rotation=0, fontsize=18)\n",
        "plt.legend(loc='upper right', fontsize=10);"
      ],
      "metadata": {
        "colab": {
          "base_uri": "https://localhost:8080/",
          "height": 287
        },
        "id": "u3Y0Ncg2l0jt",
        "outputId": "0eda7e22-a4c5-4bd7-f033-30ac40c5bf91"
      },
      "execution_count": 28,
      "outputs": [
        {
          "output_type": "display_data",
          "data": {
            "text/plain": [
              "<Figure size 432x288 with 1 Axes>"
            ],
            "image/png": "[encoded data removed]"
          },
          "metadata": {
            "needs_background": "light"
          }
        }
      ]
    },
    {
      "cell_type": "code",
      "source": [
        "ridge = Ridge(alpha=10, random_state=42)\n",
        "ridge.fit(X_train, y_train)\n",
        "print('Coeficiente del modelo Ridge es:',ridge.coef_)\n",
        "print('Intercepción del modelo Ridge es:',ridge.intercept_)"
      ],
      "metadata": {
        "colab": {
          "base_uri": "https://localhost:8080/"
        },
        "id": "0Ou5eAG1S0Il",
        "outputId": "7f9ddd44-99e0-4919-a6d2-b41fb187bc1f"
      },
      "execution_count": 29,
      "outputs": [
        {
          "output_type": "stream",
          "name": "stdout",
          "text": [
            "Coeficiente del modelo Ridge es: [-5.87659697]\n",
            "Intercepción del modelo Ridge es: 66.27108884118783\n"
          ]
        }
      ]
    },
    {
      "cell_type": "code",
      "source": [
        "print('Error medio Absoluto (MAE) del modelo:', metrics.mean_absolute_error(y_test, y_pred_R))\n",
        "print('Raíz del Error Cuadrático Medio (RMSE):', np.sqrt(metrics.mean_squared_error(y_test, y_pred_R)))\n",
        "print('R-cuadrada del modelo:', r2_score(y_test, y_pred_R))\n",
        "print('Varianza: %.2f' % r2_score(y_test, y_pred_R))"
      ],
      "metadata": {
        "colab": {
          "base_uri": "https://localhost:8080/"
        },
        "id": "jgFTU1NPWI7n",
        "outputId": "02d97646-d972-43c9-dcba-687456ba88e4"
      },
      "execution_count": 30,
      "outputs": [
        {
          "output_type": "stream",
          "name": "stdout",
          "text": [
            "Error medio Absoluto (MAE) del modelo: 4.453275329692578\n",
            "Raíz del Error Cuadrático Medio (RMSE): 6.287264474037187\n",
            "R-cuadrada del modelo: 0.7114114792830275\n",
            "Varianza: 0.71\n"
          ]
        }
      ]
    },
    {
      "cell_type": "markdown",
      "source": [
        "###5. Finalmente grafica :\n",
        "MAE (de los cuatro métodos)\n"
      ],
      "metadata": {
        "id": "uOlwpa2tSh9P"
      }
    },
    {
      "cell_type": "code",
      "source": [
        "MAE_RL = metrics.mean_absolute_error(y_test, y_pred_test)\n",
        "MAE_RP = metrics.mean_absolute_error(y_test, y_pred_pt)\n",
        "MAE_LASSO =  metrics.mean_absolute_error(y_test, y_pred_L)\n",
        "MAE_RIDGE =  metrics.mean_absolute_error(y_test, y_pred_R)\n",
        "modelos = [MAE_RL,MAE_RP , MAE_LASSO,MAE_RIDGE]\n",
        "nombres = ['Regresión Lineal', 'Regresión Polinomial', 'Lasso', 'Ridge']\n",
        "sns.set(rc={'figure.figsize':(8,6)})\n",
        "plt.title(\"ERROR MEDIO ABSOLUTO DE LOS MODELOS\")\n",
        "plt.bar(nombres, modelos, color='blueviolet')\n",
        "plt.show()"
      ],
      "metadata": {
        "colab": {
          "base_uri": "https://localhost:8080/",
          "height": 393
        },
        "id": "A20pF2J2SlQA",
        "outputId": "c4822a55-bd95-47bc-8d8c-a496506e30c1"
      },
      "execution_count": 42,
      "outputs": [
        {
          "output_type": "display_data",
          "data": {
            "text/plain": [
              "<Figure size 576x432 with 1 Axes>"
            ],
            "image/png": "[encoded data removed]"
          },
          "metadata": {}
        }
      ]
    },
    {
      "cell_type": "code",
      "source": [
        "print('MAE Regresión Lineal:',MAE_RL,'\\nMAE Regresión Polinomial:',MAE_RP, '\\nMAE Lasso:',MAE_LASSO, '\\nMAE Ridge:',MAE_RIDGE)"
      ],
      "metadata": {
        "colab": {
          "base_uri": "https://localhost:8080/"
        },
        "id": "Qz7jWNipiraX",
        "outputId": "b6c8055c-7d91-456c-868e-6baacb0a4380"
      },
      "execution_count": 43,
      "outputs": [
        {
          "output_type": "stream",
          "name": "stdout",
          "text": [
            "MAE Regresión Lineal: 5.011595088997378 \n",
            "MAE Regresión Polinomial: 4.459445302443204 \n",
            "MAE Lasso: 4.4549982549923985 \n",
            "MAE Ridge: 4.453275329692578\n"
          ]
        }
      ]
    },
    {
      "cell_type": "markdown",
      "source": [
        "\n",
        "R2 (de los cuatro métodos)"
      ],
      "metadata": {
        "id": "GJDvQA0CjkDH"
      }
    },
    {
      "cell_type": "code",
      "source": [
        "R2_RL = r2_score(y_test, y_pred_test)\n",
        "R2_RP = r2_score(y_test, y_pred_pt)\n",
        "R2_LASSO = r2_score(y_test, y_pred_L)\n",
        "R2_RIDGE = r2_score(y_test, y_pred_R)\n",
        "\n",
        "modelosr = [R2_RL,R2_RP ,R2_LASSO,R2_RIDGE]\n",
        "nombres = ['Regresión Lineal', 'Regresión Polinomial', 'Lasso', 'Ridge']\n",
        "sns.set(rc={'figure.figsize':(8,6)})\n",
        "plt.title(\"R CUADRADA DE LOS MODELOS\")\n",
        "plt.bar(nombres, modelosr, color='navy')\n",
        "plt.show()"
      ],
      "metadata": {
        "colab": {
          "base_uri": "https://localhost:8080/",
          "height": 393
        },
        "id": "ZQhswtbujeV_",
        "outputId": "8cdca4ac-304c-43cb-9ea8-25efba490275"
      },
      "execution_count": 33,
      "outputs": [
        {
          "output_type": "display_data",
          "data": {
            "text/plain": [
              "<Figure size 576x432 with 1 Axes>"
            ],
            "image/png": "[encoded data removed]"
          },
          "metadata": {}
        }
      ]
    },
    {
      "cell_type": "code",
      "source": [
        "print('R2 Regresión Lineal:',R2_RL,'\\nR2 Regresión Polinomial:',R2_RP, '\\nR2 Lasso:',R2_LASSO, '\\nR2 Ridge:',R2_RIDGE)"
      ],
      "metadata": {
        "colab": {
          "base_uri": "https://localhost:8080/"
        },
        "id": "6hVR9gp5ngbn",
        "outputId": "87153398-acb0-47d8-f4b8-155f94e995a6"
      },
      "execution_count": 34,
      "outputs": [
        {
          "output_type": "stream",
          "name": "stdout",
          "text": [
            "R2 Regresión Lineal: 0.6171440942171167 \n",
            "R2 Regresión Polinomial: 0.7299521995869951 \n",
            "R2 Lasso: 0.7489439990129734 \n",
            "R2 Ridge: 0.7114114792830275\n"
          ]
        }
      ]
    },
    {
      "cell_type": "markdown",
      "source": [
        "Explica tus resultados\n",
        "\n",
        "1. ¿Qué método conviene más a la empresa, ¿por que?\n",
        "\n",
        "Observando los resultados podemos concluir que al utilizar regularización y/o un modelo polinómico para este conjunto de datos, los resultados de las métricas mejoran, el error absoluto medio disminuye y el coeficiente de determinación aumenta. \n",
        "En mi opinión el modelo que mejor predice este este caso es el modelo lasso, ya que incluso usando un grado 2 sus resultados son casi iguales que al de los demás y a medida que se aumenta ese grado sus métricas de desempeño mejoran. Sin embargo podríamos decir que los cuatro modelos tienen resultados bastante similares. \n",
        "\n",
        "Para el caso de Lasso y Ridge los valores de alpha que tienen fueron los que mejor comportamiento dan, por lo que no se pueden mejorarse mucho. Para Lasso, mientras mayor era alpha, el modelo se castiga más por lo que se hace cada vez mas plana la curva, sin embargo fue el valor de 0.01 el que menor error tenía. Por otro lado para Ridge se utilizó un valor de 10 ya que aunque la curva en la gráfica se ve muy similar, este valor da un menor error. \n",
        "\n",
        "2. ¿Qué porcentajes de entrenamiento y evaluación usaste?\n",
        "\n",
        "Para este conjunto de datos se utilizó una partición de 85% para entrenamiento y 15% para prueba, ya que al ser solo 1000 muestras, el modelo necesita una buena proporción de los datos para poder hacer bien su entrenamiento. \n",
        "\n",
        "3. ¿Qué error tienes?, ¿es bueno?, ¿cómo lo sabes?\n",
        "\n",
        "Para los cuatro modelos tenemos un valor de MAE entre 4 y 5. Esta métrica simplemente nos habla  de la distancia vertical entre el valor real y el predecido y al ser variables sesgados (como los costos en este ejemplo), los errores tambien tendrán resultados sesgados, es decir, que a pesar de que la mayoría de errores sean muy pequeños, si uno que otro es muy grande, el promedio cambia drasticamente, por lo que a veces no es muy conveniente guiarnos por estos resultados. \n",
        "\n",
        "Respecto a los resultados de R2, considero que son un poco mas claros ya que sabemos que mientras mas cercano a 1, mejor es. Considero que un resultado de 0.75 aprox en el caso de Lasso es bueno pero sin duda se podría mejorar. Esto puede ser debido a que solo hay un feature, quizá al aumentar la complejidad del conjunto de datos mismo, las predicciones podrían ser mas altas. "
      ],
      "metadata": {
        "id": "HxGL3S__SsNl"
      }
    },
    {
      "cell_type": "markdown",
      "source": [
        "REFERENCIAS: \n",
        "\n",
        "1. Fisher, A. (2022, 30 marzo). Predicting King County House Prices with Multiple Linear Regression. Medium. https://medium.com/analytics-vidhya/predicting-king-county-house-prices-with-multiple-linear-regression-84de5feeafb2\n",
        "\n",
        "2. Gonzalez, L. (2022, 1 septiembre). Evaluando el error en los modelos de regresión [Vídeo]. 🤖 Aprende IA. https://aprendeia.com/evaluando-el-error-en-los-modelos-de-regresion/\n"
      ],
      "metadata": {
        "id": "iAWlz8SJapZ-"
      }
    }
  ]
}